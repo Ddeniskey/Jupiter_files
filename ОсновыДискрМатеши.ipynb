{
 "cells": [
  {
   "cell_type": "code",
   "execution_count": 6,
   "id": "4cb82c56",
   "metadata": {},
   "outputs": [
    {
     "name": "stdout",
     "output_type": "stream",
     "text": [
      "4 2\n",
      "  0 1\n",
      "  0 2\n",
      "  0 3\n",
      "  1 2\n",
      "  1 3\n",
      "  2 3\n"
     ]
    }
   ],
   "source": [
    "#Нужно сгенерировать все возможные k-сочетания из n элементов.\n",
    "#Формат входных данных:\n",
    "#Два числа k и n через пробел. Для них гарантированно выполняется условие: 0 \\leq k \\leq n0≤k≤n. \n",
    "#Формат выходных данных:\n",
    "#Необходимое число строк, в каждой из которых содержится k чисел из диапазона от 0 до n-1 включительно,\n",
    "#разделенных пробелом. \n",
    "def all_sochets(n, k,to_begin = 0, prefix = \" \", not_include = {-1}):\n",
    "    if k == 0:\n",
    "        print(prefix)\n",
    "    else:\n",
    "        to_begin += 1\n",
    "        for i in range(to_begin - 1,n):\n",
    "            if i not in not_include and i > max(not_include):\n",
    "                not_include.add(i)\n",
    "                all_sochets(n, k - 1,to_begin, prefix + f\" {i}\", not_include)\n",
    "                not_include.discard(i)\n",
    "data = input().split()\n",
    "all_sochets(int(data[0]), int(data[1]))\n"
   ]
  },
  {
   "cell_type": "code",
   "execution_count": 5,
   "id": "c13bebf0",
   "metadata": {},
   "outputs": [
    {
     "name": "stdout",
     "output_type": "stream",
     "text": [
      "4 2\n",
      "  0 1\n",
      "  0 2\n",
      "  0 3\n",
      "  1 0\n",
      "  1 2\n",
      "  1 3\n",
      "  2 0\n",
      "  2 1\n",
      "  2 3\n",
      "  3 0\n",
      "  3 1\n",
      "  3 2\n"
     ]
    }
   ],
   "source": [
    "#Нужно сгенерировать все возможные k-перестановки n-элементов без повторений.\n",
    "#Формат входные данные:\n",
    "#Два числа n и k через пробел. Для них гарантированно выполняется условие: 0 < k ≤ n.\n",
    "#Формат выходных данных:\n",
    "#Необходимое число лексикографически упорядоченных строк, в каждой из которых содержится\n",
    "#k чисел от 0 до n-1, разделенных пробелом.\n",
    "def all_perest_bez_povt(n, k, prefix = \" \",not_include = {-1}):\n",
    "    if k == 0:\n",
    "        print(prefix)\n",
    "    else:\n",
    "        for i in range(0,n):\n",
    "            if i not in not_include:\n",
    "                not_include.add(i)\n",
    "                all_perest_bez_povt(n, k - 1, prefix + f\" {i}\", not_include)\n",
    "                not_include.discard(i)\n",
    "data = input().split()\n",
    "all_perest_bez_povt(int(data[0]), int(data[1]))"
   ]
  },
  {
   "cell_type": "code",
   "execution_count": null,
   "id": "f5e2e78e",
   "metadata": {},
   "outputs": [],
   "source": [
    "#Найти количество компонент связности неориентированного графа при помощи поиска в глубину.\n",
    "#Формат входных данных:\n",
    "#На вход подаётся описание графа. В первой строке указаны два натуральных числа, \n",
    "#разделенные пробелом: число вершин v \\leq 1000v≤1000 и число рёбер e \\leq 1000e≤1000. В следующих\n",
    "#ee строках содержатся описания рёбер. Каждое ребро задаётся разделённой пробелом парой номеров вершин,\n",
    "#которые это ребро соединяет. Считается, что вершины графа пронумерованы числами от 1 до vv.\n",
    "#Формат выходных данных:\n",
    "#Одно число — количество компонент связности графа.\n",
    "\n",
    "m, n = input().split()\n",
    "graph = {}\n",
    "for i in range(1, int(m) + 1):\n",
    "    graph[i] = set()\n",
    "for i in range(int(n)):\n",
    "    a1, a2 = input().split()\n",
    "    graph[int(a1)].add(int(a2))\n",
    "    graph[int(a2)].add(int(a1))\n",
    "\n",
    "def find(graph:dict, point:int, marked:set) -> None:\n",
    "    marked.add(point)\n",
    "    # have guarantee that all points exists\n",
    "    for p in graph[point]:\n",
    "        if p not in marked:\n",
    "            find(graph, p, marked)\n",
    "\n",
    "\n",
    "cnt = 0\n",
    "marked = set()\n",
    "for point in graph.keys():\n",
    "    if point not in marked:\n",
    "        cnt += 1\n",
    "        find(graph, point, marked)\n",
    "print(cnt)\n"
   ]
  },
  {
   "cell_type": "code",
   "execution_count": 7,
   "id": "ae0be19b",
   "metadata": {},
   "outputs": [
    {
     "name": "stdout",
     "output_type": "stream",
     "text": [
      "3 2\n",
      "0 1\n",
      "1 2\n",
      "0 1 2 "
     ]
    }
   ],
   "source": [
    "#На вход программе подаётся описание простого связного графа. Первая строка содержит два числа:\n",
    "#число вершин V \\leq 10000V≤10000 и число рёбер E \\leq 30000E≤30000 графа. Следующие EE строк содержат\n",
    "#номера пар вершин, соединенных рёбрами. Вершины имеют номера от 00 до V-1V−1. Выведите список из VV чисел\n",
    "#— расстояний от вершины 0 до соответствующих вершин графа.\n",
    "from collections import deque\n",
    "m, n = map(int, input().split(' '))\n",
    "graph = dict()\n",
    "dist = dict()\n",
    "for i in range(m):\n",
    "        graph[i] = set()\n",
    "        dist[i] = 0\n",
    "#составления словаря для графа\n",
    "for i in range(n):\n",
    "    a1, a2 = map(int, input().split(' '))\n",
    "    graph[a1].add(a2)\n",
    "    graph[a2].add(a1)\n",
    "q = deque()\n",
    "q.append(0)\n",
    "#print(q)\n",
    "#функция выводит длину до вершин от корневой вершины\n",
    "def search_width(graph, q, dist, visited=None):\n",
    "    if visited is None:\n",
    "        visited = set()\n",
    "    while len(q) > 0:\n",
    "        root = q.popleft()\n",
    "        visited.add(root)\n",
    "        for ver in set(graph[root]) - visited:\n",
    "            q.append(ver)\n",
    "            visited.add(ver)\n",
    "            dist[ver] = dist[root] + 1\n",
    "    return dist\n",
    "distance = search_width(graph, q, dist)\n",
    "for val in distance.values():\n",
    "    print(val, end=' ')\n"
   ]
  },
  {
   "cell_type": "code",
   "execution_count": null,
   "id": "33fea9c8",
   "metadata": {},
   "outputs": [],
   "source": []
  }
 ],
 "metadata": {
  "kernelspec": {
   "display_name": "Python 3 (ipykernel)",
   "language": "python",
   "name": "python3"
  },
  "language_info": {
   "codemirror_mode": {
    "name": "ipython",
    "version": 3
   },
   "file_extension": ".py",
   "mimetype": "text/x-python",
   "name": "python",
   "nbconvert_exporter": "python",
   "pygments_lexer": "ipython3",
   "version": "3.9.12"
  }
 },
 "nbformat": 4,
 "nbformat_minor": 5
}
