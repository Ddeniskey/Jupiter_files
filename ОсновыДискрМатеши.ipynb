{
 "cells": [
  {
   "cell_type": "code",
   "execution_count": 16,
   "id": "8a7a1521",
   "metadata": {},
   "outputs": [
    {
     "name": "stdout",
     "output_type": "stream",
     "text": [
      " \n"
     ]
    }
   ],
   "source": [
    "#Нужно сгенерировать все возможные k-сочетания из n элементов,без повторений.\n",
    "#Формат входных данных:\n",
    "#Два числа k и n через пробел. Для них гарантированно выполняется условие: n0≤k≤n. \n",
    "#Формат выходных данных:\n",
    "#Необходимое число строк, в каждой из которых содержится k чисел из диапазона от 0 до n-1 включительно, \n",
    "#разделенных пробелом. \n",
    "def all_sochets(n, k,to_begin = 0, prefix = \" \", not_include = {-1}):\n",
    "    if k == 0:\n",
    "        print(prefix)\n",
    "    else:\n",
    "        to_begin += 1\n",
    "        for i in range(to_begin - 1,n):\n",
    "            if i not in not_include and i > max(not_include):\n",
    "                not_include.add(i)\n",
    "                all_sochets(n, k - 1,to_begin, prefix + f\" {i}\", not_include)\n",
    "                not_include.discard(i)\n",
    "all_sochets(10, 0)\n"
   ]
  },
  {
   "cell_type": "code",
   "execution_count": 21,
   "id": "fc6f3536",
   "metadata": {},
   "outputs": [
    {
     "data": {
      "text/plain": [
       "24310.0"
      ]
     },
     "execution_count": 21,
     "metadata": {},
     "output_type": "execute_result"
    }
   ],
   "source": [
    "def fac(n):\n",
    "    if n == 0:\n",
    "        return(1)\n",
    "    else:\n",
    "        return(n * fac(n - 1))\n",
    "fac(17) / (fac(9) * fac(8)) "
   ]
  },
  {
   "cell_type": "code",
   "execution_count": null,
   "id": "3515f864",
   "metadata": {},
   "outputs": [],
   "source": []
  }
 ],
 "metadata": {
  "kernelspec": {
   "display_name": "Python 3 (ipykernel)",
   "language": "python",
   "name": "python3"
  },
  "language_info": {
   "codemirror_mode": {
    "name": "ipython",
    "version": 3
   },
   "file_extension": ".py",
   "mimetype": "text/x-python",
   "name": "python",
   "nbconvert_exporter": "python",
   "pygments_lexer": "ipython3",
   "version": "3.9.12"
  }
 },
 "nbformat": 4,
 "nbformat_minor": 5
}
