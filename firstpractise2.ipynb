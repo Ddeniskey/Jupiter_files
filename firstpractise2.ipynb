{
 "cells": [
  {
   "cell_type": "code",
   "execution_count": 1,
   "id": "4630eac9",
   "metadata": {},
   "outputs": [
    {
     "name": "stdout",
     "output_type": "stream",
     "text": [
      "III.5.11г Среднеквадратичная линейная аппроксимация\n",
      "0.0018230009285844844 0.6328106793118823\n"
     ]
    },
    {
     "data": {
      "image/png": "[encoded data removed]",
      "text/plain": [
       "<Figure size 432x288 with 1 Axes>"
      ]
     },
     "metadata": {
      "needs_background": "light"
     },
     "output_type": "display_data"
    }
   ],
   "source": [
    "print ('III.5.11г' , 'Среднеквадратичная линейная аппроксимация')\n",
    "import numpy as np\n",
    "import math as math\n",
    "import matplotlib.pyplot as plt\n",
    "n = 1000\n",
    "x = np.linspace(0,3.14,n)\n",
    "\n",
    "y = np.zeros(n)\n",
    "\n",
    "for i in range(n):\n",
    "    y[i] = math.sin(x[i])\n",
    "    \n",
    "\n",
    "# формула выводится через МНК по минимальным невязкам\n",
    "\n",
    "a = ((n+1)*np.sum(x*y) - np.sum(x)*np.sum(y))/((n+1)*np.sum(x**2) - np.sum(x)**2) \n",
    "b = (np.sum(y)*np.sum(x**2) - np.sum(x*y)*np.sum(x))/((n+1)*np.sum(x**2) - np.sum(x)**2)\n",
    "print (a, b)\n",
    "\n",
    "ya = np.zeros(n)     \n",
    "ya = a*x+b\n",
    "#p = np.polyfit(x, y, 2) \n",
    "#yp = np.polyval(p, x) \n",
    " \n",
    "plt.plot(x, y, 'bo-', lw = 1, label='Function')\n",
    "plt.plot(x, ya, 'r-', lw = 1, label='approximation')\n",
    "plt.legend(loc='best')\n",
    "plt.title(u'Plots')\n",
    "plt.xlabel('X')\n",
    "plt.ylabel('Y')\n",
    "plt.grid()\n",
    "plt.show()\n",
    "#Синус \"плохо\" аппроксимируется на отрезке (0,пи),получается почти константа,а вот  на отрезке (0,пи/2)получается\n",
    "#вполне себе правдоподобно"
   ]
  },
  {
   "cell_type": "code",
   "execution_count": null,
   "id": "1b935072",
   "metadata": {},
   "outputs": [],
   "source": []
  },
  {
   "cell_type": "code",
   "execution_count": null,
   "id": "95aa6cdb",
   "metadata": {},
   "outputs": [],
   "source": []
  }
 ],
 "metadata": {
  "kernelspec": {
   "display_name": "Python 3",
   "language": "python",
   "name": "python3"
  },
  "language_info": {
   "codemirror_mode": {
    "name": "ipython",
    "version": 3
   },
   "file_extension": ".py",
   "mimetype": "text/x-python",
   "name": "python",
   "nbconvert_exporter": "python",
   "pygments_lexer": "ipython3",
   "version": "3.8.8"
  }
 },
 "nbformat": 4,
 "nbformat_minor": 5
}
