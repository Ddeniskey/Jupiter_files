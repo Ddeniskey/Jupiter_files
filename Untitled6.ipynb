{
 "cells": [
  {
   "cell_type": "code",
   "execution_count": 1,
   "id": "c97a9c97",
   "metadata": {},
   "outputs": [],
   "source": [
    "import math as mt\n",
    "import numpy as np\n"
   ]
  },
  {
   "cell_type": "code",
   "execution_count": 14,
   "id": "28f7373a",
   "metadata": {},
   "outputs": [
    {
     "data": {
      "text/plain": [
       "0.9999794382396074"
      ]
     },
     "execution_count": 14,
     "metadata": {},
     "output_type": "execute_result"
    }
   ],
   "source": [
    "#вычисление интеграла методом трапеций\n",
    "def trapezoid_rule(func, a, b, nseg):\n",
    "    \"\"\"Правило трапеций\n",
    "       nseg - число отрезков, на которые разбивается [a;b]\"\"\"\n",
    "    dx = 1.0 * (b - a) / nseg\n",
    "    sum = 0.5 * (func(a) + func(b))\n",
    "    for i in range(1, nseg):\n",
    "        sum += func(a + i * dx)\n",
    "\n",
    "    return sum * dx\n",
    "trapezoid_rule(np.cos, 0, np.pi / 2, 100)"
   ]
  },
  {
   "cell_type": "code",
   "execution_count": 3,
   "id": "e2cb4e43",
   "metadata": {},
   "outputs": [
    {
     "data": {
      "text/plain": [
       "0.24850324700099727"
      ]
     },
     "execution_count": 3,
     "metadata": {},
     "output_type": "execute_result"
    }
   ],
   "source": [
    "#вычисление двойного интеграла методо\n",
    "def double_cell(xa, xb, ya, yb, n, m):\n",
    "    s = 0\n",
    "    xh = 1.0*(xb - xa) / n\n",
    "    yh = 1.0*(yb - ya) / m\n",
    "    x = xa\n",
    "    y = ya\n",
    "    for i in range(1, n):\n",
    "        for j in range(1, m):\n",
    "            s += func(x, y)\n",
    "            y += yh\n",
    "        y = 0\n",
    "        x += xh\n",
    "    return xh*yh*s\n",
    "def func(x, y):\n",
    "    return x * y\n",
    "double_cell(0, 1, 0, 1, 1000, 1000)"
   ]
  },
  {
   "cell_type": "code",
   "execution_count": null,
   "id": "b034e3a4",
   "metadata": {},
   "outputs": [],
   "source": []
  }
 ],
 "metadata": {
  "kernelspec": {
   "display_name": "Python 3 (ipykernel)",
   "language": "python",
   "name": "python3"
  },
  "language_info": {
   "codemirror_mode": {
    "name": "ipython",
    "version": 3
   },
   "file_extension": ".py",
   "mimetype": "text/x-python",
   "name": "python",
   "nbconvert_exporter": "python",
   "pygments_lexer": "ipython3",
   "version": "3.10.6"
  }
 },
 "nbformat": 4,
 "nbformat_minor": 5
}
