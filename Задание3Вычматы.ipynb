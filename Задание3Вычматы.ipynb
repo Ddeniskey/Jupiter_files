{
 "cells": [
  {
   "cell_type": "code",
   "execution_count": 1,
   "id": "51c29a85",
   "metadata": {},
   "outputs": [],
   "source": [
    "import numpy as np\n",
    "import scipy\n",
    "from scipy import special\n",
    "import matplotlib.pyplot as plt\n",
    "from matplotlib.animation import FuncAnimation\n",
    "%matplotlib notebook\n",
    "plt.style.use('seaborn-pastel')"
   ]
  },
  {
   "cell_type": "code",
   "execution_count": 9,
   "id": "5c3a94ad",
   "metadata": {},
   "outputs": [
    {
     "name": "stdout",
     "output_type": "stream",
     "text": [
      "[[  0.   0.   0. ...   0.   0. 300.]\n",
      " [  0.   0.   0. ...   0.   0. 300.]\n",
      " [  0.   0.   0. ...   0.   0. 300.]\n",
      " ...\n",
      " [  0.   0.   0. ...   0.   0. 300.]\n",
      " [  0.   0.   0. ...   0.   0. 300.]\n",
      " [  0.   0.   0. ...   0.   0. 300.]]\n"
     ]
    }
   ],
   "source": [
    "lambd = 1\n",
    "f0 = 1\n",
    "L_x = 1\n",
    "L_y = 1\n",
    "m = 100\n",
    "n = 100\n",
    "h_x = L_x / m\n",
    "h_y = L_y / n\n",
    "x_i = np.arange(0, L_x+h_x, h_x)\n",
    "y_j = np.arange(0, L_y+h_y, h_y)\n",
    "r_i = len(x_i)\n",
    "r_j = len(y_j)\n",
    "g_y_x = np.zeros([r_j, r_i]) #сетка размером r_j * r_i\n",
    "Temp = 300\n",
    "for i in range(r_i): #гран условие при y = 0\n",
    "    g_y_x[0][i] = 0\n",
    "for j in range(r_j): #гран условие при x = X\n",
    "    g_y_x[j][r_i-1] = Temp\n",
    "print(g_y_x)\n",
    "alph1 = np.zeros([r_i-1])\n",
    "beta1 = np.zeros([r_i-1])\n",
    "for s in range(100):\n",
    "    # продольная прогонка\n",
    "    for j in range(1,r_j-1):\n",
    "        beta_N = lambd * h_x / h_y\n",
    "        beta_W = lambd * h_y / h_x\n",
    "        beta_S = lambd * h_x / h_y\n",
    "        beta_E = lambd * h_y / h_x\n",
    "        beta_P = beta_E + beta_N + beta_S + beta_W\n",
    "        #нет потока и нулевая температура\n",
    "        alph1[0] = 0\n",
    "        beta1[0] = g_y_x[j][0]\n",
    "        for i in range(1,r_i-1):\n",
    "            alph1[i] = -beta_E / (beta_W * alph1[i - 1] - beta_P)\n",
    "            beta1[i] = (-f0 * h_x * h_y -beta_N*g_y_x[j+1][i] - beta_S * g_y_x[j-1][i] - beta_W * beta1[i-1]) / (beta_W * alph1[i - 1] - beta_P)\n",
    "        for m in range(r_i - 2, -1, -1):\n",
    "            g_y_x[j+1][m] = g1_t_h[j+1][m + 1] * alph1[m] + beta1[m]\n",
    "    # поперечная прогонка        \n",
    "    for i in range(r_i):\n",
    "        \n",
    "            "
   ]
  },
  {
   "cell_type": "code",
   "execution_count": null,
   "id": "b8211192",
   "metadata": {},
   "outputs": [],
   "source": []
  }
 ],
 "metadata": {
  "kernelspec": {
   "display_name": "Python 3 (ipykernel)",
   "language": "python",
   "name": "python3"
  },
  "language_info": {
   "codemirror_mode": {
    "name": "ipython",
    "version": 3
   },
   "file_extension": ".py",
   "mimetype": "text/x-python",
   "name": "python",
   "nbconvert_exporter": "python",
   "pygments_lexer": "ipython3",
   "version": "3.9.12"
  }
 },
 "nbformat": 4,
 "nbformat_minor": 5
}
