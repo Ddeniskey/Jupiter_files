{
 "cells": [
  {
   "cell_type": "code",
   "execution_count": 1,
   "id": "c1162e00",
   "metadata": {},
   "outputs": [],
   "source": [
    "import pandas as pd\n",
    "import numpy as np\n"
   ]
  },
  {
   "cell_type": "code",
   "execution_count": 14,
   "id": "c75e8b7d",
   "metadata": {},
   "outputs": [
    {
     "data": {
      "text/plain": [
       "'s'"
      ]
     },
     "execution_count": 14,
     "metadata": {},
     "output_type": "execute_result"
    }
   ],
   "source": [
    "#Для вас подготовлен датафрейм содержащий имена пользователей и их теги. Ваша задача заключается в том\n",
    "#чтобы вытянуть самый первый тег из списка и сформировать отдельную колонку:\n",
    "df = pd.DataFrame({'user_name':['Ivan 007', 'Petr 911', 'Nikolay 112'],\n",
    "                  'user_tags':[\"['sport', 'law', 'cars']\", \"['cars', 'law', 'girls']\",\n",
    "                              \"['law', 'travels', 'cars']\"]})\n",
    "df['user_tags'][0][2]\n"
   ]
  },
  {
   "cell_type": "code",
   "execution_count": null,
   "id": "3fe63e6a",
   "metadata": {},
   "outputs": [],
   "source": []
  }
 ],
 "metadata": {
  "kernelspec": {
   "display_name": "Python 3 (ipykernel)",
   "language": "python",
   "name": "python3"
  },
  "language_info": {
   "codemirror_mode": {
    "name": "ipython",
    "version": 3
   },
   "file_extension": ".py",
   "mimetype": "text/x-python",
   "name": "python",
   "nbconvert_exporter": "python",
   "pygments_lexer": "ipython3",
   "version": "3.9.12"
  }
 },
 "nbformat": 4,
 "nbformat_minor": 5
}
