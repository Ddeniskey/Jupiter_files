{
 "cells": [
  {
   "cell_type": "code",
   "execution_count": 1,
   "id": "c1162e00",
   "metadata": {},
   "outputs": [],
   "source": [
    "import pandas as pd\n",
    "import numpy as np\n"
   ]
  },
  {
   "cell_type": "code",
   "execution_count": 17,
   "id": "c75e8b7d",
   "metadata": {},
   "outputs": [
    {
     "name": "stdout",
     "output_type": "stream",
     "text": [
      "'sport'\n",
      "     user_name                   user_tags user_main_tag\n",
      "0     Ivan 007    ['sport', 'law', 'cars']         sport\n",
      "1     Petr 911    ['cars', 'law', 'girls']          cars\n",
      "2  Nikolay 112  ['law', 'travels', 'cars']           law\n"
     ]
    }
   ],
   "source": [
    "#Для вас подготовлен датафрейм содержащий имена пользователей и их теги. Ваша задача заключается в том\n",
    "#чтобы вытянуть самый первый тег из списка и сформировать отдельную колонку:\n",
    "df = pd.DataFrame({'user_name':['Ivan 007', 'Petr 911', 'Nikolay 112'],\n",
    "                  'user_tags':[\"['sport', 'law', 'cars']\", \"['cars', 'law', 'girls']\",\n",
    "                              \"['law', 'travels', 'cars']\"]})\n",
    "df['user_tags'][0][2]\n",
    "string = \"['sport', 'grey', 'values']\"\n",
    "print(string.split(',')[0].strip('['))\n",
    "df['user_main_tag']=df['user_tags'].apply(lambda x: x.split(',')[0].strip('[').strip(\"'\"))\n",
    "print(df)"
   ]
  },
  {
   "cell_type": "code",
   "execution_count": 52,
   "id": "3fe63e6a",
   "metadata": {},
   "outputs": [
    {
     "name": "stdout",
     "output_type": "stream",
     "text": [
      "<class 'pandas.core.frame.DataFrame'>\n",
      "RangeIndex: 5 entries, 0 to 4\n",
      "Data columns (total 4 columns):\n",
      " #   Column        Non-Null Count  Dtype \n",
      "---  ------        --------------  ----- \n",
      " 0   From_To       5 non-null      object\n",
      " 1   FlightNumber  5 non-null      int64 \n",
      " 2   RecentDelays  5 non-null      object\n",
      " 3   Airline       5 non-null      object\n",
      "dtypes: int64(1), object(3)\n",
      "memory usage: 288.0+ bytes\n"
     ]
    },
    {
     "name": "stderr",
     "output_type": "stream",
     "text": [
      "/var/folders/gw/jbbhz9rj4sn92qnr6l21yjlc0000gn/T/ipykernel_732/2288847009.py:19: SettingWithCopyWarning: \n",
      "A value is trying to be set on a copy of a slice from a DataFrame\n",
      "\n",
      "See the caveats in the documentation: https://pandas.pydata.org/pandas-docs/stable/user_guide/indexing.html#returning-a-view-versus-a-copy\n",
      "  x[i-1] = x[i] - 10\n"
     ]
    },
    {
     "data": {
      "text/html": [
       "<div>\n",
       "<style scoped>\n",
       "    .dataframe tbody tr th:only-of-type {\n",
       "        vertical-align: middle;\n",
       "    }\n",
       "\n",
       "    .dataframe tbody tr th {\n",
       "        vertical-align: top;\n",
       "    }\n",
       "\n",
       "    .dataframe thead th {\n",
       "        text-align: right;\n",
       "    }\n",
       "</style>\n",
       "<table border=\"1\" class=\"dataframe\">\n",
       "  <thead>\n",
       "    <tr style=\"text-align: right;\">\n",
       "      <th></th>\n",
       "      <th>From_To</th>\n",
       "      <th>FlightNumber</th>\n",
       "      <th>RecentDelays</th>\n",
       "      <th>Airline</th>\n",
       "    </tr>\n",
       "  </thead>\n",
       "  <tbody>\n",
       "    <tr>\n",
       "      <th>0</th>\n",
       "      <td>LoNDon_paris</td>\n",
       "      <td>10045</td>\n",
       "      <td>[23, 47]</td>\n",
       "      <td>KLM(!)</td>\n",
       "    </tr>\n",
       "    <tr>\n",
       "      <th>1</th>\n",
       "      <td>MAdrid_miLAN</td>\n",
       "      <td>10055</td>\n",
       "      <td>[]</td>\n",
       "      <td>&lt;Air France&gt; (12)</td>\n",
       "    </tr>\n",
       "    <tr>\n",
       "      <th>2</th>\n",
       "      <td>londON_StockhOlm</td>\n",
       "      <td>10065</td>\n",
       "      <td>[24, 43, 87]</td>\n",
       "      <td>(British Airways.)</td>\n",
       "    </tr>\n",
       "    <tr>\n",
       "      <th>3</th>\n",
       "      <td>Budapest_PaRis</td>\n",
       "      <td>10075</td>\n",
       "      <td>[13]</td>\n",
       "      <td>12. Air France</td>\n",
       "    </tr>\n",
       "    <tr>\n",
       "      <th>4</th>\n",
       "      <td>Brussels_londOn</td>\n",
       "      <td>10085</td>\n",
       "      <td>[67, 32]</td>\n",
       "      <td>\"Swiss Air\"</td>\n",
       "    </tr>\n",
       "  </tbody>\n",
       "</table>\n",
       "</div>"
      ],
      "text/plain": [
       "            From_To  FlightNumber  RecentDelays             Airline\n",
       "0      LoNDon_paris         10045      [23, 47]              KLM(!)\n",
       "1      MAdrid_miLAN         10055            []   <Air France> (12)\n",
       "2  londON_StockhOlm         10065  [24, 43, 87]  (British Airways.)\n",
       "3    Budapest_PaRis         10075          [13]      12. Air France\n",
       "4   Brussels_londOn         10085      [67, 32]         \"Swiss Air\""
      ]
     },
     "execution_count": 52,
     "metadata": {},
     "output_type": "execute_result"
    }
   ],
   "source": [
    "#Некоторые значения в столбце FlightNumber отсутствуют. Значения в столбце должны увеличиваться на 10 с \n",
    "#каждой строкой, поэтому в пропусках необходимо установить 10055 и 10075. Заполните эти недостающие числа \n",
    "#и измените тип столбца с float на int\n",
    "initial_df = pd.DataFrame({'From_To': ['LoNDon_paris', 'MAdrid_miLAN', 'londON_StockhOlm', \n",
    "                               'Budapest_PaRis', 'Brussels_londOn'],\n",
    "              'FlightNumber': [10045, np.nan, 10065, np.nan, 10085],\n",
    "              'RecentDelays': [[23, 47], [], [24, 43, 87], [13], [67, 32]],\n",
    "                   'Airline': ['KLM(!)', '<Air France> (12)', '(British Airways.)', \n",
    "                               '12. Air France', '\"Swiss Air\"']})\n",
    "initial_df = initial_df.fillna(0)\n",
    "initial_df['FlightNumber']=initial_df['FlightNumber'].astype('int64')\n",
    "initial_df['FlightNumber'] = fill_gapes(initial_df.loc[:, ('FlightNumber')])\n",
    "def fill_gapes(x):\n",
    "    for i in range(len(x)):\n",
    "        if x[i] != 0:\n",
    "            existing = i\n",
    "    for i in range(existing, 0, -1):\n",
    "        x[i-1] = x[i] - 10\n",
    "    for i in range(existing, len(x)-1):\n",
    "        x[i+1] = x[i] + 10\n",
    "    return x\n",
    "fill_gapes([10045, 0, 10065, 0, 10085])\n",
    "initial_df"
   ]
  },
  {
   "cell_type": "code",
   "execution_count": 60,
   "id": "c08b267f",
   "metadata": {},
   "outputs": [
    {
     "name": "stdout",
     "output_type": "stream",
     "text": [
      "            From_To  FlightNumber  RecentDelays              Airline\n",
      "0      LoNDon_paris       10045.0      [23, 47]               KLM(!)\n",
      "1      MAdrid_miLAN           NaN            []    <Air France> (12)\n",
      "2  londON_StockhOlm       10065.0  [24, 43, 87]  (British Airways. )\n",
      "3    Budapest_PaRis           NaN          [13]       12. Air France\n",
      "4   Brussels_londOn       10085.0      [67, 32]          \"Swiss Air\"\n"
     ]
    },
    {
     "ename": "AttributeError",
     "evalue": "'numpy.ndarray' object has no attribute 'split'",
     "output_type": "error",
     "traceback": [
      "\u001b[0;31m---------------------------------------------------------------------------\u001b[0m",
      "\u001b[0;31mAttributeError\u001b[0m                            Traceback (most recent call last)",
      "Cell \u001b[0;32mIn [60], line 9\u001b[0m\n\u001b[1;32m      2\u001b[0m initial_df \u001b[38;5;241m=\u001b[39m pd\u001b[38;5;241m.\u001b[39mDataFrame({\u001b[38;5;124m'\u001b[39m\u001b[38;5;124mFrom_To\u001b[39m\u001b[38;5;124m'\u001b[39m: [\u001b[38;5;124m'\u001b[39m\u001b[38;5;124mLoNDon_paris\u001b[39m\u001b[38;5;124m'\u001b[39m, \u001b[38;5;124m'\u001b[39m\u001b[38;5;124mMAdrid_miLAN\u001b[39m\u001b[38;5;124m'\u001b[39m, \u001b[38;5;124m'\u001b[39m\u001b[38;5;124mlondON_StockhOlm\u001b[39m\u001b[38;5;124m'\u001b[39m, \n\u001b[1;32m      3\u001b[0m                                \u001b[38;5;124m'\u001b[39m\u001b[38;5;124mBudapest_PaRis\u001b[39m\u001b[38;5;124m'\u001b[39m, \u001b[38;5;124m'\u001b[39m\u001b[38;5;124mBrussels_londOn\u001b[39m\u001b[38;5;124m'\u001b[39m],\n\u001b[1;32m      4\u001b[0m               \u001b[38;5;124m'\u001b[39m\u001b[38;5;124mFlightNumber\u001b[39m\u001b[38;5;124m'\u001b[39m: [\u001b[38;5;241m10045\u001b[39m, np\u001b[38;5;241m.\u001b[39mnan, \u001b[38;5;241m10065\u001b[39m, np\u001b[38;5;241m.\u001b[39mnan, \u001b[38;5;241m10085\u001b[39m],\n\u001b[1;32m      5\u001b[0m               \u001b[38;5;124m'\u001b[39m\u001b[38;5;124mRecentDelays\u001b[39m\u001b[38;5;124m'\u001b[39m: [[\u001b[38;5;241m23\u001b[39m, \u001b[38;5;241m47\u001b[39m], [], [\u001b[38;5;241m24\u001b[39m, \u001b[38;5;241m43\u001b[39m, \u001b[38;5;241m87\u001b[39m], [\u001b[38;5;241m13\u001b[39m], [\u001b[38;5;241m67\u001b[39m, \u001b[38;5;241m32\u001b[39m]],\n\u001b[1;32m      6\u001b[0m                    \u001b[38;5;124m'\u001b[39m\u001b[38;5;124mAirline\u001b[39m\u001b[38;5;124m'\u001b[39m: [\u001b[38;5;124m'\u001b[39m\u001b[38;5;124mKLM(!)\u001b[39m\u001b[38;5;124m'\u001b[39m, \u001b[38;5;124m'\u001b[39m\u001b[38;5;124m<Air France> (12)\u001b[39m\u001b[38;5;124m'\u001b[39m, \u001b[38;5;124m'\u001b[39m\u001b[38;5;124m(British Airways. )\u001b[39m\u001b[38;5;124m'\u001b[39m, \n\u001b[1;32m      7\u001b[0m                                \u001b[38;5;124m'\u001b[39m\u001b[38;5;124m12. Air France\u001b[39m\u001b[38;5;124m'\u001b[39m, \u001b[38;5;124m'\u001b[39m\u001b[38;5;124m\"\u001b[39m\u001b[38;5;124mSwiss Air\u001b[39m\u001b[38;5;124m\"\u001b[39m\u001b[38;5;124m'\u001b[39m]})\n\u001b[1;32m      8\u001b[0m \u001b[38;5;28mprint\u001b[39m(initial_df)\n\u001b[0;32m----> 9\u001b[0m \u001b[43minitial_df\u001b[49m\u001b[43m[\u001b[49m\u001b[38;5;124;43m'\u001b[39;49m\u001b[38;5;124;43mFrom_To\u001b[39;49m\u001b[38;5;124;43m'\u001b[39;49m\u001b[43m]\u001b[49m\u001b[38;5;241;43m.\u001b[39;49m\u001b[43mvalues\u001b[49m\u001b[38;5;241;43m.\u001b[39;49m\u001b[43msplit\u001b[49m(\u001b[38;5;124m'\u001b[39m\u001b[38;5;124m_\u001b[39m\u001b[38;5;124m'\u001b[39m)\n",
      "\u001b[0;31mAttributeError\u001b[0m: 'numpy.ndarray' object has no attribute 'split'"
     ]
    }
   ],
   "source": [
    "#Разбейте данные из столбца From_To на два столбца From и То. Исходный столбец удалите.\n",
    "initial_df = pd.DataFrame({'From_To': ['LoNDon_paris', 'MAdrid_miLAN', 'londON_StockhOlm', \n",
    "                               'Budapest_PaRis', 'Brussels_londOn'],\n",
    "              'FlightNumber': [10045, np.nan, 10065, np.nan, 10085],\n",
    "              'RecentDelays': [[23, 47], [], [24, 43, 87], [13], [67, 32]],\n",
    "                   'Airline': ['KLM(!)', '<Air France> (12)', '(British Airways. )', \n",
    "                               '12. Air France', '\"Swiss Air\"']})\n",
    "print(initial_df)\n",
    "initial_df['From_To'].values.split('_')"
   ]
  },
  {
   "cell_type": "code",
   "execution_count": null,
   "id": "28798836",
   "metadata": {},
   "outputs": [],
   "source": []
  }
 ],
 "metadata": {
  "kernelspec": {
   "display_name": "Python 3 (ipykernel)",
   "language": "python",
   "name": "python3"
  },
  "language_info": {
   "codemirror_mode": {
    "name": "ipython",
    "version": 3
   },
   "file_extension": ".py",
   "mimetype": "text/x-python",
   "name": "python",
   "nbconvert_exporter": "python",
   "pygments_lexer": "ipython3",
   "version": "3.10.8"
  }
 },
 "nbformat": 4,
 "nbformat_minor": 5
}
