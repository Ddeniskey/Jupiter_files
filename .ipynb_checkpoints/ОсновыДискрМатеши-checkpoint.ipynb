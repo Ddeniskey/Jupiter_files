{
 "cells": [
  {
   "cell_type": "code",
   "execution_count": 16,
   "id": "8a7a1521",
   "metadata": {},
   "outputs": [
    {
     "name": "stdout",
     "output_type": "stream",
     "text": [
      " \n"
     ]
    }
   ],
   "source": [
    "#Нужно сгенерировать все возможные k-сочетания из n элементов,без повторений.\n",
    "#Формат входных данных:\n",
    "#Два числа k и n через пробел. Для них гарантированно выполняется условие: n0≤k≤n. \n",
    "#Формат выходных данных:\n",
    "#Необходимое число строк, в каждой из которых содержится k чисел из диапазона от 0 до n-1 включительно, \n",
    "#разделенных пробелом. \n",
    "def all_sochets(n, k,to_begin = 0, prefix = \" \", not_include = {-1}):\n",
    "    if k == 0:\n",
    "        print(prefix)\n",
    "    else:\n",
    "        to_begin += 1\n",
    "        for i in range(to_begin - 1,n):\n",
    "            if i not in not_include and i > max(not_include):\n",
    "                not_include.add(i)\n",
    "                all_sochets(n, k - 1,to_begin, prefix + f\" {i}\", not_include)\n",
    "                not_include.discard(i)\n",
    "all_sochets(10, 0)\n"
   ]
  },
  {
   "cell_type": "code",
   "execution_count": 21,
   "id": "fc6f3536",
   "metadata": {},
   "outputs": [
    {
     "data": {
      "text/plain": [
       "24310.0"
      ]
     },
     "execution_count": 21,
     "metadata": {},
     "output_type": "execute_result"
    }
   ],
   "source": [
    "def fac(n):\n",
    "    if n == 0:\n",
    "        return(1)\n",
    "    else:\n",
    "        return(n * fac(n - 1))\n",
    "fac(17) / (fac(9) * fac(8)) "
   ]
  },
  {
   "cell_type": "code",
   "execution_count": 6,
   "id": "3515f864",
   "metadata": {},
   "outputs": [
    {
     "name": "stdout",
     "output_type": "stream",
     "text": [
      "  0 1\n",
      "  0 2\n",
      "  0 3\n",
      "  1 0\n",
      "  1 2\n",
      "  1 3\n",
      "  2 0\n",
      "  2 1\n",
      "  2 3\n",
      "  3 0\n",
      "  3 1\n",
      "  3 2\n"
     ]
    }
   ],
   "source": [
    "#Нужно сгенерировать все возможные k-перестановки n-элементов без повторений.\n",
    "#Формат входные данные:\n",
    "#Два числа n и k через пробел. Для них гарантированно выполняется условие: 0 < k ≤ n.\n",
    "#Формат выходных данных:\n",
    "#Необходимое число лексикографически упорядоченных строк, в каждой из которых содержится k чисел от 0 до n-1,\n",
    "#разделенных пробелом.\n",
    "def all_perest_bez_povt(n, k, prefix = \" \",not_include = {-1}):\n",
    "    if k == 0:\n",
    "        print(prefix)\n",
    "    else:\n",
    "        for i in range(0,n):\n",
    "            if i not in not_include:\n",
    "                not_include.add(i)\n",
    "                all_perest_bez_povt(n, k - 1, prefix + f\" {i}\", not_include)\n",
    "                not_include.discard(i)\n",
    "all_perest_bez_povt(4, 2)\n",
    "\n"
   ]
  },
  {
   "cell_type": "code",
   "execution_count": 58,
   "id": "fdcee273",
   "metadata": {},
   "outputs": [
    {
     "data": {
      "text/plain": [
       "({'1': 1, '2': 1, '4': 2, '3': 2}, 1)"
      ]
     },
     "execution_count": 58,
     "metadata": {},
     "output_type": "execute_result"
    }
   ],
   "source": [
    "#Найти количество компонент связности неориентированного графа при помощи поиска в глубину.\n",
    "#Формат входных данных:\n",
    "#На вход подаётся описание графа. В первой строке указаны два натуральных числа, разделенные пробелом:\n",
    "#число вершин v  v≤1000 и число рёбер e  e≤1000. В следующих ee строках содержатся описания рёбер.\n",
    "#Каждое ребро задаётся разделённой пробелом парой номеров вершин, которые это ребро соединяет. Считается, \n",
    "#что вершины графа пронумерованы числами от 1 до v.\n",
    "#Формат выходных данных:\n",
    "#Одно число — количество компонент связности графа.\n",
    "def dfs(graph, start,components, visited=None):\n",
    "    if visited is None:\n",
    "        visited = dict()\n",
    "    visited[start] = components\n",
    "    #print(len(visited\n",
    "    #print(start)\n",
    "    if start in set(graph.keys()):\n",
    "        for next in graph[start] - set(visited.keys()):\n",
    "            dfs(graph, next, components, visited)\n",
    "    else:\n",
    "        for next in set(graph.keys()) - set(visited.keys()):\n",
    "            if graph[next].isdisjoint(visited):\n",
    "                components += 1\n",
    "            dfs(graph, next, components, visited)\n",
    "    return visited, components\n",
    "\n",
    "graph = {'1': set(['2']),\n",
    "         '3': set(['2']),\n",
    "        '4':set(['3'])}\n",
    "\n",
    "dfs(graph, '1', 1)\n",
    "#print(graph['4'].isdisjoint({'1', '2', '4'}))"
   ]
  },
  {
   "cell_type": "code",
   "execution_count": null,
   "id": "16fc46b6",
   "metadata": {},
   "outputs": [],
   "source": []
  }
 ],
 "metadata": {
  "kernelspec": {
   "display_name": "Python 3 (ipykernel)",
   "language": "python",
   "name": "python3"
  },
  "language_info": {
   "codemirror_mode": {
    "name": "ipython",
    "version": 3
   },
   "file_extension": ".py",
   "mimetype": "text/x-python",
   "name": "python",
   "nbconvert_exporter": "python",
   "pygments_lexer": "ipython3",
   "version": "3.9.12"
  }
 },
 "nbformat": 4,
 "nbformat_minor": 5
}
