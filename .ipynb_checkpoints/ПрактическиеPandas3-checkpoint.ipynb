{
 "cells": [
  {
   "cell_type": "code",
   "execution_count": 2,
   "id": "67da750c",
   "metadata": {},
   "outputs": [],
   "source": [
    "import pandas as pd\n",
    "import numpy as np"
   ]
  },
  {
   "cell_type": "code",
   "execution_count": 44,
   "id": "5e16ba46",
   "metadata": {},
   "outputs": [
    {
     "name": "stdout",
     "output_type": "stream",
     "text": [
      "Date:  [5, 4, 3, 4, 5, 6]\n",
      "Week number:  [1, 5, 13, 22, 9, 9]\n",
      "Day number of year:  [5, 35, 93, 155, 64, 65]\n",
      "Day of week:  ['Tuesday', 'Thursday', 'Saturday', 'Friday', 'Friday', 'Saturday']\n"
     ]
    }
   ],
   "source": [
    "#Вытяните день месяца, номер недели, день года и день недели из серии (s1)\n",
    "s1 = pd.Series(['05 Jan 2021', '02-04-2021', '20210403', '2021/06/04', '2021-03-05', '2021-03-06T12:20'])\n",
    "s1_date = pd.to_datetime(s1)\n",
    "day_of_year = s1_date.dt.day_of_year.to_list()\n",
    "name_of_day = s1_date.dt.day_name().to_list()\n",
    "num_of_week = s1_date.dt.isocalendar().week.to_list()\n",
    "day_of_month = s1_date.dt.day.to_list()\n",
    "calendar = dict({'Date':day_of_month, \"Week number\":num_of_week, \"Day number of year\":day_of_year,\n",
    "           \"Day of week\":name_of_day})\n",
    "for key,val in calendar.items():\n",
    "    print(f\"{key}:  {val}\")"
   ]
  },
  {
   "cell_type": "code",
   "execution_count": 54,
   "id": "ab2e95b6",
   "metadata": {},
   "outputs": [
    {
     "data": {
      "text/plain": [
       "0   2022-01-19\n",
       "1   2022-02-19\n",
       "2   2022-03-19\n",
       "dtype: datetime64[ns]"
      ]
     },
     "execution_count": 54,
     "metadata": {},
     "output_type": "execute_result"
    }
   ],
   "source": [
    "#Измените даты лежащие в серии (s1) таким образом чтобы они начинались с 10-го числа соответствующего месяца.\n",
    "s1 = pd.Series(['Jan 2022', 'Feb 2022', 'Mar 2022'])\n",
    "s1 = s1.apply(lambda x: '10' + x)\n",
    "s1_date = pd.to_datetime(s1)\n",
    "s1_date\n",
    "##второй варик,использование Timedelta\n",
    "new_series = pd.to_datetime(s1)\n",
    "days_amount = pd.Timedelta(days=9)\n",
    "final_series = new_series + days_amount\n",
    "final_series\n"
   ]
  },
  {
   "cell_type": "code",
   "execution_count": 100,
   "id": "b554836d",
   "metadata": {},
   "outputs": [
    {
     "name": "stdout",
     "output_type": "stream",
     "text": [
      "0     Apple\n",
      "1    Orange\n",
      "2      Plan\n",
      "3       Sky\n",
      "4     Money\n",
      "dtype: object\n"
     ]
    },
    {
     "data": {
      "text/plain": [
       "0     Apple\n",
       "1    Orange\n",
       "4     Money\n",
       "dtype: object"
      ]
     },
     "execution_count": 100,
     "metadata": {},
     "output_type": "execute_result"
    }
   ],
   "source": [
    "#Из серии (s1) вытяните слова, содержащие не менее 2 гласных.\n",
    "s1 = pd.Series(['Apple', 'Orange', 'Plan', 'Sky', 'Money'])\n",
    "num_of_glasn = list()\n",
    "for i in s1.to_list():\n",
    "    num_of_glasn.append(sum(1 for x in i if x.lower() in 'aoeuyi'))\n",
    "num_of_glasn = np.array(num_of_glasn)\n",
    "right_indexes = sum(np.argwhere(num_of_glasn > 1).tolist(), [])\n",
    "s1[right_indexes]"
   ]
  },
  {
   "cell_type": "code",
   "execution_count": 62,
   "id": "bef214e0",
   "metadata": {},
   "outputs": [
    {
     "name": "stdout",
     "output_type": "stream",
     "text": [
      "1          help@stepik.com\n",
      "2                user@t.co\n",
      "3    lovepandas@google.com\n",
      "dtype: object\n"
     ]
    }
   ],
   "source": [
    "#Извлеките корректные почтовые адреса из серии (s1). Используйте pattern для этой задачи.\n",
    "s1 = pd.Series(['teach pandas at stepik.com', 'help@stepik.com', 'user@t.co', 'lovepandas@google.com'])\n",
    "pattern = \"[A-Za-z0-9._%+-]+@[A-Za-z0-9.-]+.[A-Za-z]{2,4}\"\n",
    "s1 = s1.str.findall(pattern)\n",
    "s1 = s1[s1.apply(len) > 0]\n",
    "print(s1.explode())"
   ]
  },
  {
   "cell_type": "code",
   "execution_count": 67,
   "id": "690de665",
   "metadata": {},
   "outputs": [
    {
     "name": "stdout",
     "output_type": "stream",
     "text": [
      "apple     6.0\n",
      "banana    4.0\n",
      "carrot    5.8\n",
      "dtype: float64\n"
     ]
    }
   ],
   "source": [
    "#Вычислите среднее значение веса каждого фрукта.\n",
    "fruit_list =['banana', 'carrot', 'apple', 'carrot', 'carrot', 'apple', 'banana', 'carrot', 'apple', 'carrot']\n",
    "weights_list = [1.0, 2.0, 3.0, 4.0, 5.0, 6.0, 7.0, 8.0, 9.0, 10.0]\n",
    "\n",
    "fruits = pd.Series(fruit_list)\n",
    "weights = pd.Series(weights_list)\n",
    "data = pd.DataFrame({'fruits':fruits, 'weight':weights})\n",
    "grouped_data = data.groupby(by = 'fruits', as_index=False).mean()\n",
    "ser = pd.Series(grouped_data['weight'])\n",
    "ser.index = grouped_data['fruits'].to_list()\n",
    "pd.Series(data = pd.Series(grouped_data['weight']),index= grouped_data['fruits'].to_list())\n",
    "\n",
    "##2ой варик\n",
    "print(pd.Series(data = weights_list, index = [fruits]).groupby(level = 0).mean())"
   ]
  },
  {
   "cell_type": "code",
   "execution_count": 96,
   "id": "5354bc47",
   "metadata": {},
   "outputs": [
    {
     "name": "stdout",
     "output_type": "stream",
     "text": [
      "18.16590212458495\n"
     ]
    },
    {
     "data": {
      "text/plain": [
       "18.16590212458495"
      ]
     },
     "execution_count": 96,
     "metadata": {},
     "output_type": "execute_result"
    }
   ],
   "source": [
    "#Вычислить евклидово расстояние между рядами (точками) X и Y\n",
    "X = pd.Series([1, 2, 3, 4, 5, 6, 7, 8, 9, 10])\n",
    "Y = pd.Series([10, 9, 8, 7, 6, 5, 4, 3, 2, 1])\n",
    "data = pd.DataFrame({'x':X, 'y':Y})\n",
    "np.sqrt(data.apply(lambda x: (x[0] - x[1])**2, axis=1).sum())\n",
    "#2ой варик\n",
    "d = sum(list(map(lambda x, y: (x - y)**2, X, Y)))**0.5\n",
    "print(d)\n",
    "#3ий варик\n",
    "d = sum((X - Y)**2)**0.5\n",
    "#4ый варик\n",
    "d = np.linalg.norm(X-Y)"
   ]
  },
  {
   "cell_type": "code",
   "execution_count": 100,
   "id": "04926cf4",
   "metadata": {},
   "outputs": [
    {
     "name": "stdout",
     "output_type": "stream",
     "text": [
      "[1 5 7]\n"
     ]
    }
   ],
   "source": [
    "#Определите индексы пиков (значения, окруженные меньшими значениями с обеих сторон).\n",
    "s1 = pd.Series([2, 10, 3, 4, 9, 10, 2, 7, 3])\n",
    "def is_loc_max(ser):\n",
    "    ans = []\n",
    "    for i in range(1, len(ser)- 1):\n",
    "        if (ser[i] > ser[i-1]) and (ser[i] > ser[i+1]):\n",
    "            ans.append(i)\n",
    "    return(ans)\n",
    "print(np.array(is_loc_max(s1)))"
   ]
  },
  {
   "cell_type": "code",
   "execution_count": 109,
   "id": "e2e2967d",
   "metadata": {},
   "outputs": [
    {
     "data": {
      "text/plain": [
       "2022-01-01     1.0\n",
       "2022-01-02     1.0\n",
       "2022-01-03    10.0\n",
       "2022-01-04    10.0\n",
       "2022-01-05    10.0\n",
       "2022-01-06     3.0\n",
       "2022-01-07     3.0\n",
       "2022-01-08     3.0\n",
       "Freq: D, dtype: float64"
      ]
     },
     "execution_count": 109,
     "metadata": {},
     "output_type": "execute_result"
    }
   ],
   "source": [
    "#В серии (s1) находятся даты с 1 по 8 января 2022 года. Однако некоторые даты и значения к датам пропущены. \n",
    "#Сделайте так, чтобы все отсутствующие даты отображались и заполнялись значением из предыдущей даты.\n",
    "s1 = pd.Series([1,10,3,np.nan], index=pd.to_datetime(['2022-01-01', '2022-01-03', '2022-01-06', '2022-01-08']))\n",
    "s1.asfreq(freq='1d', method = 'ffill').fillna(method = 'ffill')\n"
   ]
  },
  {
   "cell_type": "code",
   "execution_count": 122,
   "id": "1451b267",
   "metadata": {},
   "outputs": [
    {
     "name": "stderr",
     "output_type": "stream",
     "text": [
      "/tmp/ipykernel_30518/3416014530.py:11: FutureWarning: The default value of regex will change from True to False in a future version. In addition, single character regular expressions will *not* be treated as literal strings when regex=True.\n",
      "  df.columns.str.replace('.', '_')\n"
     ]
    },
    {
     "data": {
      "text/plain": [
       "Index(['user_name', 'user_balance', 'user_age', 'user_group'], dtype='object')"
      ]
     },
     "execution_count": 122,
     "metadata": {},
     "output_type": "execute_result"
    }
   ],
   "source": [
    "#Отредактируйте название колонок датафрейма (df) следующим образом:\n",
    "#1. user -> user_name\n",
    "#2. все точки в названии колонок заменить нижним подчёркиванием\n",
    "df = pd.DataFrame(data = {'user' : ['Ivan', 'Petr', 'Alex'], 'user.balance' : [500, 200, 0], \n",
    "                          'user.age' : [34, 25, 18], 'user.group' : ['A', 'B', 'A']})\n",
    "#df = df.rename(columns={'user':'user_name', 'user.balance':'user_balance',\n",
    "                  #'user.age':'user_age', 'user.group':'user_group'})\n",
    "\n",
    "#2ой варик\n",
    "df = df.rename(columns={'user':'user_name'})\n",
    "df.columns.str.replace('.', '_')\n",
    "\n",
    "\n"
   ]
  },
  {
   "cell_type": "code",
   "execution_count": 131,
   "id": "b635a2c1",
   "metadata": {},
   "outputs": [
    {
     "name": "stdout",
     "output_type": "stream",
     "text": [
      "0    False\n",
      "1     True\n",
      "2    False\n",
      "dtype: bool\n"
     ]
    }
   ],
   "source": [
    "#Проверьте, имеются ли пропущенные значения в датафрейме (df). Если в строке датафрейма есть хотя-бы одно \n",
    "#пропущенное значение - верните True иначе False.\n",
    "df = pd.DataFrame(data = {'user' : ['Ivan', 'Petr', 'Alex'], 'user.balance' : [500, None, 0], \n",
    "                          'user.age' : [34, 25, 18], 'user.group' : ['A', 'B', 'A']})\n",
    "print(df.isna().any(axis = 1))\n"
   ]
  },
  {
   "cell_type": "code",
   "execution_count": null,
   "id": "68da0809",
   "metadata": {},
   "outputs": [],
   "source": []
  }
 ],
 "metadata": {
  "kernelspec": {
   "display_name": "Python 3 (ipykernel)",
   "language": "python",
   "name": "python3"
  },
  "language_info": {
   "codemirror_mode": {
    "name": "ipython",
    "version": 3
   },
   "file_extension": ".py",
   "mimetype": "text/x-python",
   "name": "python",
   "nbconvert_exporter": "python",
   "pygments_lexer": "ipython3",
   "version": "3.9.12"
  }
 },
 "nbformat": 4,
 "nbformat_minor": 5
}
