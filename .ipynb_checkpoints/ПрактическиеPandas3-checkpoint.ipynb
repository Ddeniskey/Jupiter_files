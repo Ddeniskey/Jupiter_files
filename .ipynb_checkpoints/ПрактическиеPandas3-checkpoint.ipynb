{
 "cells": [
  {
   "cell_type": "code",
   "execution_count": 1,
   "id": "67da750c",
   "metadata": {},
   "outputs": [],
   "source": [
    "import pandas as pd\n",
    "import numpy as np"
   ]
  },
  {
   "cell_type": "code",
   "execution_count": 44,
   "id": "5e16ba46",
   "metadata": {},
   "outputs": [
    {
     "name": "stdout",
     "output_type": "stream",
     "text": [
      "Date:  [5, 4, 3, 4, 5, 6]\n",
      "Week number:  [1, 5, 13, 22, 9, 9]\n",
      "Day number of year:  [5, 35, 93, 155, 64, 65]\n",
      "Day of week:  ['Tuesday', 'Thursday', 'Saturday', 'Friday', 'Friday', 'Saturday']\n"
     ]
    }
   ],
   "source": [
    "#Вытяните день месяца, номер недели, день года и день недели из серии (s1)\n",
    "s1 = pd.Series(['05 Jan 2021', '02-04-2021', '20210403', '2021/06/04', '2021-03-05', '2021-03-06T12:20'])\n",
    "s1_date = pd.to_datetime(s1)\n",
    "day_of_year = s1_date.dt.day_of_year.to_list()\n",
    "name_of_day = s1_date.dt.day_name().to_list()\n",
    "num_of_week = s1_date.dt.isocalendar().week.to_list()\n",
    "day_of_month = s1_date.dt.day.to_list()\n",
    "calendar = dict({'Date':day_of_month, \"Week number\":num_of_week, \"Day number of year\":day_of_year,\n",
    "           \"Day of week\":name_of_day})\n",
    "for key,val in calendar.items():\n",
    "    print(f\"{key}:  {val}\")"
   ]
  },
  {
   "cell_type": "code",
   "execution_count": 54,
   "id": "ab2e95b6",
   "metadata": {},
   "outputs": [
    {
     "data": {
      "text/plain": [
       "0   2022-01-19\n",
       "1   2022-02-19\n",
       "2   2022-03-19\n",
       "dtype: datetime64[ns]"
      ]
     },
     "execution_count": 54,
     "metadata": {},
     "output_type": "execute_result"
    }
   ],
   "source": [
    "#Измените даты лежащие в серии (s1) таким образом чтобы они начинались с 10-го числа соответствующего месяца.\n",
    "s1 = pd.Series(['Jan 2022', 'Feb 2022', 'Mar 2022'])\n",
    "s1 = s1.apply(lambda x: '10' + x)\n",
    "s1_date = pd.to_datetime(s1)\n",
    "s1_date\n",
    "##второй варик,использование Timedelta\n",
    "new_series = pd.to_datetime(s1)\n",
    "days_amount = pd.Timedelta(days=9)\n",
    "final_series = new_series + days_amount\n",
    "final_series\n"
   ]
  },
  {
   "cell_type": "code",
   "execution_count": 100,
   "id": "b554836d",
   "metadata": {},
   "outputs": [
    {
     "name": "stdout",
     "output_type": "stream",
     "text": [
      "0     Apple\n",
      "1    Orange\n",
      "2      Plan\n",
      "3       Sky\n",
      "4     Money\n",
      "dtype: object\n"
     ]
    },
    {
     "data": {
      "text/plain": [
       "0     Apple\n",
       "1    Orange\n",
       "4     Money\n",
       "dtype: object"
      ]
     },
     "execution_count": 100,
     "metadata": {},
     "output_type": "execute_result"
    }
   ],
   "source": [
    "#Из серии (s1) вытяните слова, содержащие не менее 2 гласных.\n",
    "s1 = pd.Series(['Apple', 'Orange', 'Plan', 'Sky', 'Money'])\n",
    "num_of_glasn = list()\n",
    "for i in s1.to_list():\n",
    "    num_of_glasn.append(sum(1 for x in i if x.lower() in 'aoeuyi'))\n",
    "num_of_glasn = np.array(num_of_glasn)\n",
    "right_indexes = sum(np.argwhere(num_of_glasn > 1).tolist(), [])\n",
    "s1[right_indexes]"
   ]
  },
  {
   "cell_type": "code",
   "execution_count": null,
   "id": "bef214e0",
   "metadata": {},
   "outputs": [],
   "source": []
  }
 ],
 "metadata": {
  "kernelspec": {
   "display_name": "Python 3 (ipykernel)",
   "language": "python",
   "name": "python3"
  },
  "language_info": {
   "codemirror_mode": {
    "name": "ipython",
    "version": 3
   },
   "file_extension": ".py",
   "mimetype": "text/x-python",
   "name": "python",
   "nbconvert_exporter": "python",
   "pygments_lexer": "ipython3",
   "version": "3.10.6"
  }
 },
 "nbformat": 4,
 "nbformat_minor": 5
}
