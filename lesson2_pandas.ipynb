{
 "cells": [
  {
   "cell_type": "code",
   "execution_count": 2,
   "id": "88131f44",
   "metadata": {},
   "outputs": [],
   "source": [
    "import pandas as pd"
   ]
  },
  {
   "cell_type": "code",
   "execution_count": 3,
   "id": "b75d89dd",
   "metadata": {},
   "outputs": [
    {
     "name": "stdout",
     "output_type": "stream",
     "text": [
      "['  Name1 Surname1', ' Name2 Surname2']\n"
     ]
    }
   ],
   "source": [
    "names = '  Name1 Surname1, Name2 Surname2'\n",
    "names_new = names.split(sep=',')\n",
    "print(names_new)"
   ]
  },
  {
   "cell_type": "code",
   "execution_count": 4,
   "id": "52eb9ef8",
   "metadata": {},
   "outputs": [
    {
     "data": {
      "text/plain": [
       "True"
      ]
     },
     "execution_count": 4,
     "metadata": {},
     "output_type": "execute_result"
    }
   ],
   "source": [
    "a = lambda x: x>20\n",
    "a(30)"
   ]
  },
  {
   "cell_type": "code",
   "execution_count": 22,
   "id": "13d71b57",
   "metadata": {},
   "outputs": [
    {
     "data": {
      "text/html": [
       "<div>\n",
       "<style scoped>\n",
       "    .dataframe tbody tr th:only-of-type {\n",
       "        vertical-align: middle;\n",
       "    }\n",
       "\n",
       "    .dataframe tbody tr th {\n",
       "        vertical-align: top;\n",
       "    }\n",
       "\n",
       "    .dataframe thead th {\n",
       "        text-align: right;\n",
       "    }\n",
       "</style>\n",
       "<table border=\"1\" class=\"dataframe\">\n",
       "  <thead>\n",
       "    <tr style=\"text-align: right;\">\n",
       "      <th></th>\n",
       "      <th>column1</th>\n",
       "      <th>column2</th>\n",
       "      <th>column3</th>\n",
       "      <th>column4</th>\n",
       "      <th>column5</th>\n",
       "    </tr>\n",
       "  </thead>\n",
       "  <tbody>\n",
       "    <tr>\n",
       "      <th>0</th>\n",
       "      <td>1</td>\n",
       "      <td>3</td>\n",
       "      <td>6</td>\n",
       "      <td>3</td>\n",
       "      <td>6</td>\n",
       "    </tr>\n",
       "    <tr>\n",
       "      <th>1</th>\n",
       "      <td>2</td>\n",
       "      <td>4</td>\n",
       "      <td>7</td>\n",
       "      <td>4</td>\n",
       "      <td>7</td>\n",
       "    </tr>\n",
       "  </tbody>\n",
       "</table>\n",
       "</div>"
      ],
      "text/plain": [
       "   column1  column2  column3  column4  column5\n",
       "0        1        3        6        3        6\n",
       "1        2        4        7        4        7"
      ]
     },
     "execution_count": 22,
     "metadata": {},
     "output_type": "execute_result"
    }
   ],
   "source": [
    "data = pd.DataFrame({'column1':[1, 2, 3], 'column2':[3, 4, 5], 'column3':[6, 7, 8]})\n",
    "data1 = pd.DataFrame({'column1':[1, 2, 4], 'column4':[3, 4, 5], 'column5':[6, 7, 8]})\n",
    "data.merge(data1, on = 'column1', how = 'inner')\n"
   ]
  },
  {
   "cell_type": "code",
   "execution_count": 51,
   "id": "0b6b811d",
   "metadata": {},
   "outputs": [
    {
     "data": {
      "text/html": [
       "<div>\n",
       "<style scoped>\n",
       "    .dataframe tbody tr th:only-of-type {\n",
       "        vertical-align: middle;\n",
       "    }\n",
       "\n",
       "    .dataframe tbody tr th {\n",
       "        vertical-align: top;\n",
       "    }\n",
       "\n",
       "    .dataframe thead th {\n",
       "        text-align: right;\n",
       "    }\n",
       "</style>\n",
       "<table border=\"1\" class=\"dataframe\">\n",
       "  <thead>\n",
       "    <tr style=\"text-align: right;\">\n",
       "      <th></th>\n",
       "      <th>income</th>\n",
       "    </tr>\n",
       "    <tr>\n",
       "      <th>company</th>\n",
       "      <th></th>\n",
       "    </tr>\n",
       "  </thead>\n",
       "  <tbody>\n",
       "    <tr>\n",
       "      <th>En +</th>\n",
       "      <td>9.962187e+10</td>\n",
       "    </tr>\n",
       "    <tr>\n",
       "      <th>АО «Александрова, Савельев и Мельникова»</th>\n",
       "      <td>7.206782e+10</td>\n",
       "    </tr>\n",
       "    <tr>\n",
       "      <th>АО «Андреев-Анисимов»</th>\n",
       "      <td>6.931948e+09</td>\n",
       "    </tr>\n",
       "    <tr>\n",
       "      <th>АО «Андреев-Макарова»</th>\n",
       "      <td>8.934380e+10</td>\n",
       "    </tr>\n",
       "    <tr>\n",
       "      <th>АО «Большаков Кошелева»</th>\n",
       "      <td>7.860861e+10</td>\n",
       "    </tr>\n",
       "    <tr>\n",
       "      <th>...</th>\n",
       "      <td>...</td>\n",
       "    </tr>\n",
       "    <tr>\n",
       "      <th>Щекиноазот</th>\n",
       "      <td>4.309092e+10</td>\n",
       "    </tr>\n",
       "    <tr>\n",
       "      <th>Щукин Лимитед</th>\n",
       "      <td>6.703036e+10</td>\n",
       "    </tr>\n",
       "    <tr>\n",
       "      <th>Эйвон Бьюти Продактс Компани (Avon)</th>\n",
       "      <td>2.503657e+10</td>\n",
       "    </tr>\n",
       "    <tr>\n",
       "      <th>Яковлева Инкорпорэйтед</th>\n",
       "      <td>3.523436e+10</td>\n",
       "    </tr>\n",
       "    <tr>\n",
       "      <th>Якушев Лимитед</th>\n",
       "      <td>3.876468e+10</td>\n",
       "    </tr>\n",
       "  </tbody>\n",
       "</table>\n",
       "<p>289 rows × 1 columns</p>\n",
       "</div>"
      ],
      "text/plain": [
       "                                                income\n",
       "company                                               \n",
       "En +                                      9.962187e+10\n",
       "АО «Александрова, Савельев и Мельникова»  7.206782e+10\n",
       "АО «Андреев-Анисимов»                     6.931948e+09\n",
       "АО «Андреев-Макарова»                     8.934380e+10\n",
       "АО «Большаков Кошелева»                   7.860861e+10\n",
       "...                                                ...\n",
       "Щекиноазот                                4.309092e+10\n",
       "Щукин Лимитед                             6.703036e+10\n",
       "Эйвон Бьюти Продактс Компани (Avon)       2.503657e+10\n",
       "Яковлева Инкорпорэйтед                    3.523436e+10\n",
       "Якушев Лимитед                            3.876468e+10\n",
       "\n",
       "[289 rows x 1 columns]"
      ]
     },
     "execution_count": 51,
     "metadata": {},
     "output_type": "execute_result"
    }
   ],
   "source": [
    "df = pd.read_csv('https://stepik.org/media/attachments/lesson/359209/companies.csv', sep=';')\n",
    "unique_companies = df.groupby('company')['income'].nunique().reset_index(name='unique_companies')\n",
    "df.groupby('company').agg({'income':'mean'})"
   ]
  },
  {
   "cell_type": "code",
   "execution_count": 53,
   "id": "9f8440c2",
   "metadata": {},
   "outputs": [
    {
     "data": {
      "text/html": [
       "<div>\n",
       "<style scoped>\n",
       "    .dataframe tbody tr th:only-of-type {\n",
       "        vertical-align: middle;\n",
       "    }\n",
       "\n",
       "    .dataframe tbody tr th {\n",
       "        vertical-align: top;\n",
       "    }\n",
       "\n",
       "    .dataframe thead th {\n",
       "        text-align: right;\n",
       "    }\n",
       "</style>\n",
       "<table border=\"1\" class=\"dataframe\">\n",
       "  <thead>\n",
       "    <tr style=\"text-align: right;\">\n",
       "      <th></th>\n",
       "      <th>income</th>\n",
       "    </tr>\n",
       "    <tr>\n",
       "      <th>company</th>\n",
       "      <th></th>\n",
       "    </tr>\n",
       "  </thead>\n",
       "  <tbody>\n",
       "    <tr>\n",
       "      <th>En +</th>\n",
       "      <td>9.962187e+10</td>\n",
       "    </tr>\n",
       "    <tr>\n",
       "      <th>АО «Александрова, Савельев и Мельникова»</th>\n",
       "      <td>7.206782e+10</td>\n",
       "    </tr>\n",
       "    <tr>\n",
       "      <th>АО «Андреев-Анисимов»</th>\n",
       "      <td>6.931948e+09</td>\n",
       "    </tr>\n",
       "    <tr>\n",
       "      <th>АО «Андреев-Макарова»</th>\n",
       "      <td>8.934380e+10</td>\n",
       "    </tr>\n",
       "    <tr>\n",
       "      <th>АО «Большаков Кошелева»</th>\n",
       "      <td>7.860861e+10</td>\n",
       "    </tr>\n",
       "    <tr>\n",
       "      <th>...</th>\n",
       "      <td>...</td>\n",
       "    </tr>\n",
       "    <tr>\n",
       "      <th>Щекиноазот</th>\n",
       "      <td>4.309092e+10</td>\n",
       "    </tr>\n",
       "    <tr>\n",
       "      <th>Щукин Лимитед</th>\n",
       "      <td>6.703036e+10</td>\n",
       "    </tr>\n",
       "    <tr>\n",
       "      <th>Эйвон Бьюти Продактс Компани (Avon)</th>\n",
       "      <td>2.503657e+10</td>\n",
       "    </tr>\n",
       "    <tr>\n",
       "      <th>Яковлева Инкорпорэйтед</th>\n",
       "      <td>3.523436e+10</td>\n",
       "    </tr>\n",
       "    <tr>\n",
       "      <th>Якушев Лимитед</th>\n",
       "      <td>3.876468e+10</td>\n",
       "    </tr>\n",
       "  </tbody>\n",
       "</table>\n",
       "<p>289 rows × 1 columns</p>\n",
       "</div>"
      ],
      "text/plain": [
       "                                                income\n",
       "company                                               \n",
       "En +                                      9.962187e+10\n",
       "АО «Александрова, Савельев и Мельникова»  7.206782e+10\n",
       "АО «Андреев-Анисимов»                     6.931948e+09\n",
       "АО «Андреев-Макарова»                     8.934380e+10\n",
       "АО «Большаков Кошелева»                   7.860861e+10\n",
       "...                                                ...\n",
       "Щекиноазот                                4.309092e+10\n",
       "Щукин Лимитед                             6.703036e+10\n",
       "Эйвон Бьюти Продактс Компани (Avon)       2.503657e+10\n",
       "Яковлева Инкорпорэйтед                    3.523436e+10\n",
       "Якушев Лимитед                            3.876468e+10\n",
       "\n",
       "[289 rows x 1 columns]"
      ]
     },
     "execution_count": 53,
     "metadata": {},
     "output_type": "execute_result"
    }
   ],
   "source": [
    "def read_n_agg(path):\n",
    "    df = pd.read_csv(path, sep=';')\n",
    "    return df.groupby('company').agg({'income':'mean'})\n",
    "read_n_agg('https://stepik.org/media/attachments/lesson/359209/companies.csv')"
   ]
  },
  {
   "cell_type": "code",
   "execution_count": null,
   "id": "b4caddb3",
   "metadata": {},
   "outputs": [],
   "source": []
  },
  {
   "cell_type": "code",
   "execution_count": null,
   "id": "f3f85016",
   "metadata": {},
   "outputs": [],
   "source": []
  }
 ],
 "metadata": {
  "kernelspec": {
   "display_name": "Python 3 (ipykernel)",
   "language": "python",
   "name": "python3"
  },
  "language_info": {
   "codemirror_mode": {
    "name": "ipython",
    "version": 3
   },
   "file_extension": ".py",
   "mimetype": "text/x-python",
   "name": "python",
   "nbconvert_exporter": "python",
   "pygments_lexer": "ipython3",
   "version": "3.9.12"
  }
 },
 "nbformat": 4,
 "nbformat_minor": 5
}
