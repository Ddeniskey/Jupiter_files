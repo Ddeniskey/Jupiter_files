{
 "cells": [
  {
   "cell_type": "code",
   "execution_count": 1,
   "id": "2265db38",
   "metadata": {},
   "outputs": [],
   "source": [
    "import pandas as pd\n",
    "import numpy as np"
   ]
  },
  {
   "cell_type": "code",
   "execution_count": 5,
   "id": "4699a4cb",
   "metadata": {},
   "outputs": [
    {
     "name": "stdout",
     "output_type": "stream",
     "text": [
      "          0         1         2\n",
      "0 -0.469429 -0.032952  0.502381\n",
      "1  0.280649  0.092736 -0.373386\n",
      "2 -0.103336  0.085149  0.018186\n"
     ]
    }
   ],
   "source": [
    "#Вычтите среднее значение строки из каждого элемента в строке\n",
    "df = pd.DataFrame([[0.020448, 0.456925, 0.992258], [0.743399, 0.555486, 0.089364], [0.094699, 0.283184, 0.216221]])\n",
    "print(df.apply(lambda x: x - np.mean(x), axis = 1))"
   ]
  },
  {
   "cell_type": "code",
   "execution_count": 29,
   "id": "49a71df0",
   "metadata": {},
   "outputs": [
    {
     "name": "stdout",
     "output_type": "stream",
     "text": [
      "b\n"
     ]
    },
    {
     "data": {
      "text/html": [
       "<div>\n",
       "<style scoped>\n",
       "    .dataframe tbody tr th:only-of-type {\n",
       "        vertical-align: middle;\n",
       "    }\n",
       "\n",
       "    .dataframe tbody tr th {\n",
       "        vertical-align: top;\n",
       "    }\n",
       "\n",
       "    .dataframe thead th {\n",
       "        text-align: right;\n",
       "    }\n",
       "</style>\n",
       "<table border=\"1\" class=\"dataframe\">\n",
       "  <thead>\n",
       "    <tr style=\"text-align: right;\">\n",
       "      <th></th>\n",
       "      <th>a</th>\n",
       "      <th>b</th>\n",
       "      <th>c</th>\n",
       "    </tr>\n",
       "  </thead>\n",
       "  <tbody>\n",
       "    <tr>\n",
       "      <th>0</th>\n",
       "      <td>0.020448</td>\n",
       "      <td>0.056925</td>\n",
       "      <td>0.992258</td>\n",
       "    </tr>\n",
       "    <tr>\n",
       "      <th>1</th>\n",
       "      <td>0.743399</td>\n",
       "      <td>0.055486</td>\n",
       "      <td>0.089364</td>\n",
       "    </tr>\n",
       "    <tr>\n",
       "      <th>2</th>\n",
       "      <td>0.094699</td>\n",
       "      <td>0.283184</td>\n",
       "      <td>0.216221</td>\n",
       "    </tr>\n",
       "  </tbody>\n",
       "</table>\n",
       "</div>"
      ],
      "text/plain": [
       "          a         b         c\n",
       "0  0.020448  0.056925  0.992258\n",
       "1  0.743399  0.055486  0.089364\n",
       "2  0.094699  0.283184  0.216221"
      ]
     },
     "execution_count": 29,
     "metadata": {},
     "output_type": "execute_result"
    }
   ],
   "source": [
    "#В каком столбце чисел сумма наименьшая? Выведите на экран название этого столбца.\n",
    "df = pd.DataFrame([[0.020448, 0.056925, 0.992258], [0.743399, 0.055486, 0.089364], \n",
    "                   [0.094699, 0.283184, 0.216221]], columns=list('abc'))\n",
    "ser = df.apply(np.sum, axis = 0)\n",
    "sorted_ser = ser.sort_values(ascending=True)\n",
    "print(sorted_ser.index[0])\n",
    "df"
   ]
  },
  {
   "cell_type": "code",
   "execution_count": 42,
   "id": "963f9a1f",
   "metadata": {},
   "outputs": [
    {
     "name": "stdout",
     "output_type": "stream",
     "text": [
      "3\n"
     ]
    }
   ],
   "source": [
    "#Как подсчитать, сколько уникальных строк имеет датафрейм (т. е. игнорировать все повторяющиеся строки)?\n",
    "df = pd.DataFrame([[0.020448, 0.456925, 0.992258], [0.743399, 0.555486, 0.089364], [0.020448, 0.456925, 0.992258],\n",
    "                   [0.094699, 0.283184, 0.216221]], columns=list('abc'))\n",
    "print(df.drop_duplicates().shape[0])"
   ]
  },
  {
   "cell_type": "code",
   "execution_count": 2,
   "id": "4fc79649",
   "metadata": {},
   "outputs": [
    {
     "name": "stdout",
     "output_type": "stream",
     "text": [
      "0    e\n",
      "1    c\n",
      "2    d\n",
      "3    h\n",
      "4    d\n",
      "dtype: object\n"
     ]
    }
   ],
   "source": [
    "#Имеется датафрейм состоящий из 10 столбцов чисел с плавающей запятой. Ровно 5 записей в каждой строке являются\n",
    "#значениями NaN. Для каждой строки датафрейма найдите столбец, содержащий третье значение NaN.\n",
    "nan = np.nan\n",
    "\n",
    "data = [[0.04,  nan,  nan, 0.25,  nan, 0.43, 0.71, 0.51,  nan,  nan],\n",
    "        [ nan,  nan,  nan, 0.04, 0.76,  nan,  nan, 0.67, 0.76, 0.16],\n",
    "        [ nan,  nan, 0.5 ,  nan, 0.31, 0.4 ,  nan,  nan, 0.24, 0.01],\n",
    "        [0.49,  nan,  nan, 0.62, 0.73, 0.26, 0.85,  nan,  nan,  nan],\n",
    "        [ nan,  nan, 0.41,  nan, 0.05,  nan, 0.61,  nan, 0.48, 0.68]]\n",
    "\n",
    "columns = list('abcdefghij')\n",
    "\n",
    "df = pd.DataFrame(data, columns=columns)\n",
    "df_modified = df.transpose().isna().cumsum()\n",
    "d = dict()\n",
    "for index, row in df_modified.iteritems():   \n",
    "    for i in row.items():\n",
    "        if i[1] == 3:\n",
    "            d[index] = i[0]\n",
    "            break\n",
    "print(pd.Series(d))"
   ]
  },
  {
   "cell_type": "code",
   "execution_count": 3,
   "id": "0553ecf8",
   "metadata": {},
   "outputs": [
    {
     "name": "stdout",
     "output_type": "stream",
     "text": [
      "grps\n",
      "a    409\n",
      "b    156\n",
      "c    345\n",
      "Name: vals, dtype: int64\n"
     ]
    }
   ],
   "source": [
    "#Датафрейм содержит колонку grps (название некоторой группы) и колонку целочисленных значений vals.  \n",
    "#Для каждой группы найдите сумму трех наибольших значений.\n",
    "df = pd.DataFrame({'grps': list('aaabbcaabcccbbc'), \n",
    "                   'vals': [12,345,3,1,45,14,4,52,54,23,235,21,57,3,87]})\n",
    "df_sorted = df.sort_values(by = ['grps', 'vals'], ascending=[True, False])\n",
    "df_max_3 = df_sorted.groupby(by = 'grps').head(3)\n",
    "df_new = df_max_3.groupby(by = 'grps', as_index = False).sum()\n",
    "ser = pd.Series(df_new['vals'])\n",
    "ser.index = df_new['grps']\n",
    "print(ser)\n"
   ]
  },
  {
   "cell_type": "code",
   "execution_count": 33,
   "id": "8444d8f5",
   "metadata": {},
   "outputs": [
    {
     "name": "stdout",
     "output_type": "stream",
     "text": [
      "A\n",
      "(0, 10]      635\n",
      "(10, 20]     360\n",
      "(20, 30]     315\n",
      "(30, 40]     306\n",
      "(40, 50]     750\n",
      "(50, 60]     284\n",
      "(60, 70]     424\n",
      "(70, 80]     526\n",
      "(80, 90]     835\n",
      "(90, 100]    852\n",
      "Name: B, dtype: int64\n"
     ]
    }
   ],
   "source": [
    "#Датафрейм df имеет два целочисленных столбца «A» и «B». Значения в «A» находятся в диапазоне \n",
    "#от 1 до 100 (включительно).\n",
    "#Для каждой группы из 10 последовательных целых чисел в столбце А (т. е. (0, 10], (10, 20], ...) вычислите \n",
    "#сумму соответствующих значений в столбце B.\n",
    "df = pd.DataFrame(np.random.RandomState(8765).randint(1, 101, size=(100, 2)), columns = [\"A\", \"B\"])\n",
    "\n",
    "segmented = pd.cut(df['A'], [i for i in range(0, 101, 10)]).values\n",
    "df_new = pd.DataFrame({'A' : segmented, 'B' : df['B']})\n",
    "df_new = df_new.groupby(by = 'A').sum()\n",
    "df_new.index\n",
    "ser = pd.Series(df_new['B'])\n",
    "ser.index = df_new.index\n",
    "print(ser)\n",
    "\n"
   ]
  },
  {
   "cell_type": "code",
   "execution_count": 56,
   "id": "378356df",
   "metadata": {},
   "outputs": [
    {
     "name": "stdout",
     "output_type": "stream",
     "text": [
      "    0   1   2   3   4   5   6   7\n",
      "0  38  38  46  46  13  24   3  54\n",
      "1  18  47   4  42   8  66  50  46\n",
      "2  62  36  19  19  77  17   7  63\n",
      "3  28  47  46  65  63  12  16  24\n",
      "4  14  51  34  56  29  59  92  79\n",
      "5  58  76  96  45  38  76  58  40\n",
      "6  10  34  48  40  37  23  41  26\n",
      "7  55  70  91  27  79  92  20  31\n",
      "[(2, 5), (5, 7), (6, 4)]\n"
     ]
    }
   ],
   "source": [
    "#Создайте список индексов столбцов и строк для 3 самых больших значений в предлагаемом датафрейме.\n",
    "df = pd.DataFrame(np.random.RandomState(30).randint(1, 101, size=(8, 8)))\n",
    "\n",
    "print(df)\n",
    "d = dict()\n",
    "for index, row in df.iteritems():   \n",
    "    for i in row.items():\n",
    "        d[(index, i[0])] = i[1]\n",
    "        #print(i, index)\n",
    "#val1 = max(d.values())\n",
    "def get_key(d, value):\n",
    "    for k, v in d.items():\n",
    "        if v == value:\n",
    "            return k\n",
    "#ans1 = get_key(d, val1)\n",
    "#d[ans1] = 0\n",
    "val = [0, 0, 0]\n",
    "ans = []\n",
    "for i in range(3):\n",
    "    val[i] = max(d.values())\n",
    "    ans.append(get_key(d, val[i]))\n",
    "    d[get_key(d, val[i])] = 0\n",
    "print(ans)"
   ]
  },
  {
   "cell_type": "code",
   "execution_count": null,
   "id": "b78834fb",
   "metadata": {},
   "outputs": [],
   "source": []
  }
 ],
 "metadata": {
  "kernelspec": {
   "display_name": "Python 3 (ipykernel)",
   "language": "python",
   "name": "python3"
  },
  "language_info": {
   "codemirror_mode": {
    "name": "ipython",
    "version": 3
   },
   "file_extension": ".py",
   "mimetype": "text/x-python",
   "name": "python",
   "nbconvert_exporter": "python",
   "pygments_lexer": "ipython3",
   "version": "3.10.8"
  }
 },
 "nbformat": 4,
 "nbformat_minor": 5
}
