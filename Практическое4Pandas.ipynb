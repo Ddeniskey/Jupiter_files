{
 "cells": [
  {
   "cell_type": "code",
   "execution_count": 1,
   "id": "52900702",
   "metadata": {},
   "outputs": [],
   "source": [
    "import pandas as pd\n",
    "import numpy as np\n"
   ]
  },
  {
   "cell_type": "code",
   "execution_count": 8,
   "id": "c89b857f",
   "metadata": {},
   "outputs": [
    {
     "data": {
      "text/plain": [
       "user            0\n",
       "user.balance    2\n",
       "user.age        1\n",
       "user.group      0\n",
       "dtype: int64"
      ]
     },
     "execution_count": 8,
     "metadata": {},
     "output_type": "execute_result"
    }
   ],
   "source": [
    "#Подсчитайте количество пропущенных значений в каждом столбце.\n",
    "df = pd.DataFrame(data = {'user' : ['Ivan', 'Petr', 'Alex', 'Den'], 'user.balance' : [500, None, 0, None],\n",
    "                          'user.age' : [34, None, 18, 43], 'user.group' : ['A', 'B', 'A', 'B']})\n",
    "df.isna().sum()"
   ]
  },
  {
   "cell_type": "code",
   "execution_count": 20,
   "id": "f5a1e43b",
   "metadata": {},
   "outputs": [
    {
     "data": {
      "text/html": [
       "<div>\n",
       "<style scoped>\n",
       "    .dataframe tbody tr th:only-of-type {\n",
       "        vertical-align: middle;\n",
       "    }\n",
       "\n",
       "    .dataframe tbody tr th {\n",
       "        vertical-align: top;\n",
       "    }\n",
       "\n",
       "    .dataframe thead th {\n",
       "        text-align: right;\n",
       "    }\n",
       "</style>\n",
       "<table border=\"1\" class=\"dataframe\">\n",
       "  <thead>\n",
       "    <tr style=\"text-align: right;\">\n",
       "      <th></th>\n",
       "      <th>user.speed</th>\n",
       "      <th>user.bag_weight</th>\n",
       "    </tr>\n",
       "  </thead>\n",
       "  <tbody>\n",
       "    <tr>\n",
       "      <th>0</th>\n",
       "      <td>40.0</td>\n",
       "      <td>8.000000</td>\n",
       "    </tr>\n",
       "    <tr>\n",
       "      <th>1</th>\n",
       "      <td>39.0</td>\n",
       "      <td>4.666667</td>\n",
       "    </tr>\n",
       "    <tr>\n",
       "      <th>2</th>\n",
       "      <td>42.0</td>\n",
       "      <td>2.000000</td>\n",
       "    </tr>\n",
       "    <tr>\n",
       "      <th>3</th>\n",
       "      <td>35.0</td>\n",
       "      <td>4.000000</td>\n",
       "    </tr>\n",
       "  </tbody>\n",
       "</table>\n",
       "</div>"
      ],
      "text/plain": [
       "   user.speed  user.bag_weight\n",
       "0        40.0         8.000000\n",
       "1        39.0         4.666667\n",
       "2        42.0         2.000000\n",
       "3        35.0         4.000000"
      ]
     },
     "execution_count": 20,
     "metadata": {},
     "output_type": "execute_result"
    }
   ],
   "source": [
    "#Замените отсутствующие значения в столбцах user.speed и user.bag_weight их соответствующими средними значениями.\n",
    "df = pd.DataFrame(data = {'user' : ['Ivan', 'Petr', 'Alex', 'Den'], 'user.speed' : [40, None, 42, 35],\n",
    "                          'user.bag_weight' : [8, None, 2, 4]})\n",
    "df = df.drop(columns = ['user'])\n",
    "df.fillna(df.mean())"
   ]
  },
  {
   "cell_type": "code",
   "execution_count": 4,
   "id": "ae620302",
   "metadata": {},
   "outputs": [
    {
     "name": "stdout",
     "output_type": "stream",
     "text": [
      "   user  user.speed  user.bag_weight\n",
      "0  Ivan        40.0              8.0\n",
      "1  Petr        39.0              4.0\n",
      "2  Alex        42.0              2.0\n",
      "3   Den        35.0              4.0\n"
     ]
    }
   ],
   "source": [
    "#Используйте метод apply, чтобы заменить отсутствующие значения в user.speed средним значением столбца\n",
    "#, а в user.bag_weight — медианой столбца.\n",
    "df = pd.DataFrame(data = {'user' : ['Ivan', 'Petr', 'Alex', 'Den'], 'user.speed' : [40, None, 42, 35],\n",
    "                          'user.bag_weight' : [8, None, 2, 4]})\n",
    "#df.iloc[:, [False, True, True]]\n",
    "df[['user.speed', 'user.bag_weight']] = df[['user.speed', 'user.bag_weight']].apply({'user.speed':lambda x : x.fillna(x.mean()),\n",
    "                                                                                   'user.bag_weight': lambda x: x.fillna(x.median())})\n",
    "print(df)\n"
   ]
  },
  {
   "cell_type": "code",
   "execution_count": 5,
   "id": "3d018825",
   "metadata": {},
   "outputs": [
    {
     "name": "stdout",
     "output_type": "stream",
     "text": [
      "    e   b   c   d   a\n",
      "0   4   1   2   3   0\n",
      "1   9   6   7   8   5\n",
      "2  14  11  12  13  10\n",
      "3  19  16  17  18  15\n"
     ]
    }
   ],
   "source": [
    "#Поменяйте столбцы А и Е местами в датафрейме:\n",
    "df = pd.DataFrame(np.arange(20).reshape(-1, 5), columns=list('abcde'))\n",
    "df = df.reindex(columns = ['e', 'b', 'c', 'd', 'a'])\n",
    "print(df)"
   ]
  },
  {
   "cell_type": "code",
   "execution_count": 6,
   "id": "c0c179f0",
   "metadata": {},
   "outputs": [
    {
     "name": "stdout",
     "output_type": "stream",
     "text": [
      "    e   d   c   b   a\n",
      "0   4   3   2   1   0\n",
      "1   9   8   7   6   5\n",
      "2  14  13  12  11  10\n",
      "3  19  18  17  16  15\n"
     ]
    }
   ],
   "source": [
    "#Поменяйте порядок столбцов в датафрейме от Е до А.\n",
    "df = pd.DataFrame(np.arange(20).reshape(-1, 5), columns=list('abcde'))\n",
    "df = df.reindex(columns = ['e', 'd', 'c', 'b', 'a'])\n",
    "print(df)"
   ]
  },
  {
   "cell_type": "code",
   "execution_count": 7,
   "id": "81428dd8",
   "metadata": {},
   "outputs": [
    {
     "name": "stdout",
     "output_type": "stream",
     "text": [
      "     user  user.speed  user.bag_weight\n",
      "0    Ivan        40.0              8.0\n",
      "2    Alex        42.0              2.0\n",
      "4  Viktor        60.0             19.0\n"
     ]
    }
   ],
   "source": [
    "#Выведите на экран строки датафрейма с шагом 2.\n",
    "df = pd.DataFrame(data = {'user' : ['Ivan', 'Petr', 'Alex', 'Den', 'Viktor'], 'user.speed' : [40, None, 42, 35, 60], 'user.bag_weight' : [8, None, 2, 4, 19]})\n",
    "df = df.iloc[lambda x: x.index % 2 == 0]\n",
    "print(df)\n",
    "\n"
   ]
  },
  {
   "cell_type": "code",
   "execution_count": 8,
   "id": "f635c74b",
   "metadata": {},
   "outputs": [
    {
     "name": "stdout",
     "output_type": "stream",
     "text": [
      "                  user user.number  user.speed  user.bag_weight\n",
      "Ivan_222-333      Ivan     222-333        40.0              8.0\n",
      "Petr_missing      Petr     missing         NaN              NaN\n",
      "Alex_222-555      Alex     222-555        42.0              2.0\n",
      "Den_222-666        Den     222-666        35.0              4.0\n",
      "Viktor_222-777  Viktor     222-777        60.0             19.0\n"
     ]
    }
   ],
   "source": [
    "#Создайте составной индекс на основе колонок user и user.number для датафрейма:\n",
    "df = pd.DataFrame(data = {'user' : ['Ivan', 'Petr', 'Alex', 'Den', 'Viktor'], 'user.number' : ['222-333', None, '222-555', '222-666', '222-777'], 'user.speed' : [40, None, 42, 35, 60], 'user.bag_weight' : [8, None, 2, 4, 19]})\n",
    "df.loc[df['user.number'].isna(), 'user.number'] = 'missing'\n",
    "new_index = df.user + \"_\" +  df['user.number']\n",
    "df.index = new_index.to_list()\n",
    "print(df)"
   ]
  },
  {
   "cell_type": "code",
   "execution_count": 9,
   "id": "45faa917",
   "metadata": {},
   "outputs": [
    {
     "name": "stdout",
     "output_type": "stream",
     "text": [
      "2\n"
     ]
    }
   ],
   "source": [
    "#Для столбца А найдите индекс строки в которой находится второе наибольшее значение.\n",
    "df = pd.DataFrame([[16,24,29],[1,10,16],[26,21,10],[3,3,8],[6,17,17],[2,25,14],[9,13,21],[27,24,17],[19,29,1],[20,24,6]], columns=list('abc'))\n",
    "df_sorted = df.sort_values(by = 'a')\n",
    "indexes = df_sorted.a.index.to_list()\n",
    "print(indexes[-2])\n",
    "\n"
   ]
  },
  {
   "cell_type": "code",
   "execution_count": 10,
   "id": "aa816ace",
   "metadata": {},
   "outputs": [
    {
     "name": "stdout",
     "output_type": "stream",
     "text": [
      "    0   1   2   3\n",
      "5  35  13  36  21\n",
      "6  32  32  25  17\n"
     ]
    }
   ],
   "source": [
    "#Выведите последние две строки датафрейма, сумма ячеек которых больше 100.\n",
    "df = pd.DataFrame([[23,33,16,35],\n",
    "                   [24,20,13,10],\n",
    "                   [32,33,30,28],\n",
    "                   [13,32,36,18],\n",
    "                   [25,27,31,10],\n",
    "                   [35,13,36,21],\n",
    "                   [32,32,25,17],\n",
    "                   [34,24,23,19]])\n",
    "sum_series = df.sum(axis = 1)\n",
    "greater_100 = sum_series[sum_series > 100]\n",
    "true_indexes = greater_100.index.to_list()[-2:]\n",
    "print(df.iloc[true_indexes])"
   ]
  },
  {
   "cell_type": "code",
   "execution_count": null,
   "id": "5119088d",
   "metadata": {},
   "outputs": [],
   "source": []
  }
 ],
 "metadata": {
  "kernelspec": {
   "display_name": "Python 3 (ipykernel)",
   "language": "python",
   "name": "python3"
  },
  "language_info": {
   "codemirror_mode": {
    "name": "ipython",
    "version": 3
   },
   "file_extension": ".py",
   "mimetype": "text/x-python",
   "name": "python",
   "nbconvert_exporter": "python",
   "pygments_lexer": "ipython3",
   "version": "3.9.12"
  }
 },
 "nbformat": 4,
 "nbformat_minor": 5
}
