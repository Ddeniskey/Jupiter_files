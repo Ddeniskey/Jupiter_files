{
 "cells": [
  {
   "cell_type": "code",
   "execution_count": 1,
   "id": "954e2e24",
   "metadata": {},
   "outputs": [],
   "source": [
    "import numpy as np\n",
    "import pandas as pd\n",
    "import math"
   ]
  },
  {
   "cell_type": "code",
   "execution_count": 2,
   "id": "0a451fe3",
   "metadata": {},
   "outputs": [
    {
     "name": "stdout",
     "output_type": "stream",
     "text": [
      "[[17. 17. 25. 25. 33. 26. 21. 45.]\n",
      " [29. 25. 41. 15. 42. 26. 25. 44.]\n",
      " [42. 30. 13. 35. 38. 37. 24. 17.]\n",
      " [37. 19. 13. 27. 19. 16. 20. 34.]\n",
      " [49. 10. 29. 32. 24. 41. 14. 23.]\n",
      " [40. 31. 21. 36. 19. 13.  8. 38.]\n",
      " [25. 28. 35. 25. 11.  9. 24.  9.]\n",
      " [31. 35. 32. 41. 19. 10. 24. 27.]]\n"
     ]
    }
   ],
   "source": [
    "#Превратите датафрейм в квадрат с максимально возможной длиной стороны n, убрав отрицательные значения. \n",
    "#При необходимости удалите наименьшие значения. Порядок положительных чисел в результате должен \n",
    "#оставаться таким же, как и в оригинале.\n",
    "#Подсказка:\n",
    "#Шаг 1: Удалите отрицательные значения\n",
    "#Шаг 2: Определите наибольший размер стороны квадрата n, который может получиться\n",
    "#Шаг 3: Постройте квадрат со стороной n из ТОП n^2 наибольших значений\n",
    "df = pd.DataFrame(np.random.RandomState(30).randint(-20, 50, 100).reshape(10,-1))\n",
    "pos_val = df.values[df.values > 0] # значения неотрицательные\n",
    "df.shape[0]\n",
    "def num_to_remove(len_of_pos_vals = pos_val.shape[0]):\n",
    "    size = np.sqrt(len_of_pos_vals)\n",
    "    return len_of_pos_vals - math.floor(size) ** 2\n",
    "num_to_remove()\n",
    "l = pos_val.tolist()\n",
    "for i in range(num_to_remove()): # удаление минимальных элементов до составления квадрата из оставшихся\n",
    "    l.pop(l.index(min(l)))\n",
    "    \n",
    "print(np.array(l, float).reshape(int(np.sqrt(len(l))),int(np.sqrt(len(l)))))"
   ]
  },
  {
   "cell_type": "code",
   "execution_count": 3,
   "id": "0cdd3371",
   "metadata": {},
   "outputs": [
    {
     "name": "stdout",
     "output_type": "stream",
     "text": [
      "    0   1   2   3   4\n",
      "0   0   1   2   3   4\n",
      "1  10  11  12  13  14\n",
      "2   5   6   7   8   9\n",
      "3  15  16  17  18  19\n",
      "4  20  21  22  23  24\n"
     ]
    }
   ],
   "source": [
    "#Поменяйте местами строки 1 и 2\n",
    "df = pd.DataFrame(np.arange(25).reshape(5, -1))\n",
    "print(df.rename(index = {1:2, 2:1}).sort_index())"
   ]
  },
  {
   "cell_type": "code",
   "execution_count": 4,
   "id": "eeb48168",
   "metadata": {},
   "outputs": [
    {
     "name": "stdout",
     "output_type": "stream",
     "text": [
      "    0   1   2   3   4\n",
      "4  20  21  22  23  24\n",
      "3  15  16  17  18  19\n",
      "2  10  11  12  13  14\n",
      "1   5   6   7   8   9\n",
      "0   0   1   2   3   4\n"
     ]
    }
   ],
   "source": [
    "#Измените порядок строк датафрейма таким образом, чтобы последние стали первыми, а первые последними (reverse).\n",
    "df = pd.DataFrame(np.arange(25).reshape(5, -1))\n",
    "new_df = df.rename(index = {i:len(df.index)-i - 1 for i in range(len(df.index))}).sort_index()\n",
    "print(new_df.rename(index = {i:len(df.index)-i - 1 for i in range(len(df.index))}))"
   ]
  },
  {
   "cell_type": "code",
   "execution_count": 5,
   "id": "fa84496b",
   "metadata": {},
   "outputs": [
    {
     "name": "stdout",
     "output_type": "stream",
     "text": [
      "   0  5  10  15  20   b   c   d   e\n",
      "0  1  0   0   0   0   1   2   3   4\n",
      "1  0  1   0   0   0   6   7   8   9\n",
      "2  0  0   1   0   0  11  12  13  14\n",
      "3  0  0   0   1   0  16  17  18  19\n",
      "4  0  0   0   0   1  21  22  23  24\n"
     ]
    }
   ],
   "source": [
    "#Выполните one-hot encoding для столбца А и добавьте результат к датафрейму\n",
    "df = pd.DataFrame(np.arange(25).reshape(5,-1), columns=list('abcde'))\n",
    "print(pd.get_dummies(df['a']).join(df.drop('a', axis = 1)))"
   ]
  },
  {
   "cell_type": "code",
   "execution_count": 6,
   "id": "d2ff5572",
   "metadata": {},
   "outputs": [
    {
     "name": "stdout",
     "output_type": "stream",
     "text": [
      "    0   1   2   3  max\n",
      "0  38  38  46  46   46\n",
      "1  13  24   3  54   54\n",
      "2  18  47   4  42   47\n",
      "3   8  66  50  46   66\n",
      "4  62  36  19  19   62\n",
      "5  77  17   7  63   77\n",
      "6  28  47  46  65   65\n",
      "7  63  12  16  24   63\n",
      "8  14  51  34  56   56\n",
      "9  29  59  92  79   92\n",
      "[3, 2, 2, 4]\n",
      "3\n"
     ]
    }
   ],
   "source": [
    "#Определите имя столбца с наибольшим количеством строковых максимумов. \n",
    "\n",
    "df = pd.DataFrame(np.random.RandomState(30).randint(1,100, 40).reshape(10, -1))\n",
    "df['max'] = df.max(axis=1)\n",
    "nummax= [sum(df[c] == df['max']) for c in df.columns[:4]]\n",
    "print(df)\n",
    "print(nummax)\n",
    "print(np.argmax(nummax))"
   ]
  },
  {
   "cell_type": "code",
   "execution_count": 61,
   "id": "312776ad",
   "metadata": {},
   "outputs": [
    {
     "name": "stdout",
     "output_type": "stream",
     "text": [
      "    0   1   2   3\n",
      "0  38  38  46  46\n",
      "1  13  24   3  54\n",
      "2  18  47   4  42\n",
      "3   8  66  50  46\n",
      "4  62  36  19  19\n",
      "5  77  17   7  63\n",
      "6  28  47  46  65\n",
      "7  63  12  16  24\n",
      "8  14  51  34  56\n",
      "9  29  59  92  79\n",
      "52.28766584960549\n",
      "47.54997371187496\n",
      "41.23105625617661\n",
      "45.14421336118285\n",
      "61.41661013113635\n",
      "23.280893453645632\n",
      "51.81698563212646\n",
      "31.448370387032774\n",
      "61.04916051838878\n",
      "    0   1   2   3  nearest_row  dist\n",
      "0  38  38  46  46            5    61\n",
      "1  13  24   3  54            9   100\n",
      "2  18  47   4  42            9    97\n",
      "3   8  66  50  46            5    96\n",
      "4  62  36  19  19            9   103\n",
      "5  77  17   7  63            9   107\n",
      "6  28  47  46  65            7    71\n",
      "7  63  12  16  24            9   110\n",
      "8  14  51  34  56            5    77\n",
      "9  29  59  92  79            7   110\n"
     ]
    }
   ],
   "source": [
    "#Создайте новый столбец таким образом, чтобы каждая строка содержала номер наиболее \n",
    "#удалённой строки-записи по евклидову расстоянию.\n",
    "df = pd.DataFrame(np.random.RandomState(30).randint(1,100, 40).reshape(10, -1))\n",
    "def max_distance(df,num_str):\n",
    "    other_indexes = df.index.to_list()\n",
    "    other_indexes.pop(num_str)\n",
    "    dist = dict()\n",
    "    for i in other_indexes:\n",
    "        dist[i] = np.sqrt(((df.iloc[[num_str]].values - df.iloc[[i]].values)** 2).sum())\n",
    "    maxim = max(dist.values())\n",
    "    for key, val in dist.items():\n",
    "        if val == maxim:\n",
    "            return key, round(maxim)\n",
    "df['nearest_row'], df['dist'] = [max_distance(df, i)[0]  for  i in df.index], [max_distance(df, i)[1]  for  i in df.index]\n",
    "#df['dist'] = [max_distance(df, i)[1] for  i in df.index]\n",
    "print(df)\n"
   ]
  },
  {
   "cell_type": "code",
   "execution_count": 41,
   "id": "1adbdf21",
   "metadata": {},
   "outputs": [
    {
     "name": "stdout",
     "output_type": "stream",
     "text": [
      "          p         q         r         s         t         u         v  \\\n",
      "p  0.000000  0.512107  0.767901  0.139413  0.052365  0.544037  0.335403   \n",
      "q  0.512107  0.000000  0.209535  0.424986  0.013054  0.639377  0.142553   \n",
      "r  0.767901  0.209535  0.000000  0.187936  0.295132  0.408626  0.171527   \n",
      "s  0.139413  0.424986  0.187936  0.000000  0.152527  0.845489  0.606281   \n",
      "t  0.052365  0.013054  0.295132  0.152527  0.000000  0.019302  0.319836   \n",
      "u  0.544037  0.639377  0.408626  0.845489  0.019302  0.000000  0.210305   \n",
      "v  0.335403  0.142553  0.171527  0.606281  0.319836  0.210305  0.000000   \n",
      "w  0.666213  0.391215  0.083154  0.150114  0.619769  0.215764  0.430686   \n",
      "x  0.036061  0.249027  0.433272  0.410009  0.440047  0.237842  0.308671   \n",
      "y  0.113365  0.049830  0.013345  0.297120  0.114302  0.184201  0.621780   \n",
      "\n",
      "          w         x         y  \n",
      "p  0.666213  0.036061  0.113365  \n",
      "q  0.391215  0.249027  0.049830  \n",
      "r  0.083154  0.433272  0.013345  \n",
      "s  0.150114  0.410009  0.297120  \n",
      "t  0.619769  0.440047  0.114302  \n",
      "u  0.215764  0.237842  0.184201  \n",
      "v  0.430686  0.308671  0.621780  \n",
      "w  0.000000  0.429285  0.136803  \n",
      "x  0.429285  0.000000  0.058826  \n",
      "y  0.136803  0.058826  0.000000  \n",
      "[0.77 0.64 0.77 0.85 0.62 0.85 0.62 0.67 0.44 0.62]\n"
     ]
    }
   ],
   "source": [
    "#Определите максимально возможное значение корреляции каждого столбца по сравнению с другими столбцами датафрейма.\n",
    "df = pd.DataFrame(np.random.RandomState(25).randint(1,100, 80).reshape(8, -1), columns=list('pqrstuvwxy'), \n",
    "                  index=list('abcdefgh'))\n",
    "corr = abs(df.corr())\n",
    "corr[np.isclose(corr, 1)]  = 0\n",
    "print(corr)\n",
    "#corr.apply(lambda x: 0 if any(x) == 1 else x, axis = 0)\n",
    "print(corr.apply(lambda x: round(max(x), 2), axis = 0).values)"
   ]
  },
  {
   "cell_type": "code",
   "execution_count": 45,
   "id": "653f4f87",
   "metadata": {},
   "outputs": [
    {
     "name": "stdout",
     "output_type": "stream",
     "text": [
      "0    0.054945\n",
      "1    0.022222\n",
      "2    0.023529\n",
      "3    0.022989\n",
      "4    0.030303\n",
      "5    0.032967\n",
      "6    0.170455\n",
      "7    0.164835\n",
      "dtype: float64\n"
     ]
    }
   ],
   "source": [
    "#Определите отношение минимума к максимуму для каждой строки.\n",
    "df = pd.DataFrame(np.random.RandomState(25).randint(1,100, 80).reshape(8, -1))\n",
    "print(df.apply(lambda x: min(x) / max(x), axis = 1))"
   ]
  },
  {
   "cell_type": "code",
   "execution_count": 60,
   "id": "5bf3bd3c",
   "metadata": {},
   "outputs": [
    {
     "name": "stdout",
     "output_type": "stream",
     "text": [
      "0    63\n",
      "1    89\n",
      "2    74\n",
      "3    86\n",
      "4    93\n",
      "5    85\n",
      "6    84\n",
      "7    89\n",
      "dtype: int64\n",
      "    0   1   2   3   4   5   6   7   8   9  penultimate\n",
      "0   5  63  91  16  62  24  45  51   9  29           63\n",
      "1   5  90  32  70   2  40   4  89  56   4           89\n",
      "2  85  46   4   2  23  32  49  48  74  17           74\n",
      "3  51  86  37  10  33  11  61  48   2  87           86\n",
      "4  92  50  19  93  37  99  31  39   3   6           93\n",
      "5  58  74  23  12   3  44  91  62  85  84           85\n",
      "6  75  18  15  84  38  88  51  52  15  72           84\n",
      "7  63  91  16  15  77  40  89  47  54  30           89\n"
     ]
    }
   ],
   "source": [
    "#Создайте новый столбец penultimate (с англ. предпоследний), который имеет второе по величине \n",
    "#значение каждой строки датафрейма:\n",
    "df = pd.DataFrame(np.random.RandomState(25).randint(1,100, 80).reshape(8, -1))\n",
    "print(df.apply(second_max, axis = 1))\n",
    "df['penultimate'] = df.apply(second_max, axis = 1)\n",
    "def second_max(x):\n",
    "    x = np.sort(x)\n",
    "    return x[-2]\n",
    "print(df)"
   ]
  },
  {
   "cell_type": "code",
   "execution_count": 66,
   "id": "031fbdbe",
   "metadata": {},
   "outputs": [
    {
     "data": {
      "text/html": [
       "<div>\n",
       "<style scoped>\n",
       "    .dataframe tbody tr th:only-of-type {\n",
       "        vertical-align: middle;\n",
       "    }\n",
       "\n",
       "    .dataframe tbody tr th {\n",
       "        vertical-align: top;\n",
       "    }\n",
       "\n",
       "    .dataframe thead th {\n",
       "        text-align: right;\n",
       "    }\n",
       "</style>\n",
       "<table border=\"1\" class=\"dataframe\">\n",
       "  <thead>\n",
       "    <tr style=\"text-align: right;\">\n",
       "      <th></th>\n",
       "      <th>0</th>\n",
       "      <th>1</th>\n",
       "      <th>2</th>\n",
       "      <th>3</th>\n",
       "      <th>4</th>\n",
       "      <th>5</th>\n",
       "      <th>6</th>\n",
       "      <th>7</th>\n",
       "      <th>8</th>\n",
       "      <th>9</th>\n",
       "    </tr>\n",
       "  </thead>\n",
       "  <tbody>\n",
       "    <tr>\n",
       "      <th>0</th>\n",
       "      <td>1.47</td>\n",
       "      <td>-1.13</td>\n",
       "      <td>1.31</td>\n",
       "      <td>-0.59</td>\n",
       "      <td>1.38</td>\n",
       "      <td>-1.00</td>\n",
       "      <td>-1.27</td>\n",
       "      <td>0.98</td>\n",
       "      <td>-0.46</td>\n",
       "      <td>0.59</td>\n",
       "    </tr>\n",
       "    <tr>\n",
       "      <th>1</th>\n",
       "      <td>-0.23</td>\n",
       "      <td>1.07</td>\n",
       "      <td>-0.50</td>\n",
       "      <td>1.08</td>\n",
       "      <td>1.38</td>\n",
       "      <td>-0.47</td>\n",
       "      <td>1.03</td>\n",
       "      <td>-0.97</td>\n",
       "      <td>0.72</td>\n",
       "      <td>-1.08</td>\n",
       "    </tr>\n",
       "    <tr>\n",
       "      <th>2</th>\n",
       "      <td>-1.05</td>\n",
       "      <td>1.12</td>\n",
       "      <td>-1.62</td>\n",
       "      <td>-0.65</td>\n",
       "      <td>-0.69</td>\n",
       "      <td>1.07</td>\n",
       "      <td>0.12</td>\n",
       "      <td>-0.67</td>\n",
       "      <td>-1.02</td>\n",
       "      <td>0.68</td>\n",
       "    </tr>\n",
       "    <tr>\n",
       "      <th>3</th>\n",
       "      <td>1.02</td>\n",
       "      <td>0.12</td>\n",
       "      <td>0.72</td>\n",
       "      <td>1.02</td>\n",
       "      <td>0.50</td>\n",
       "      <td>1.67</td>\n",
       "      <td>-0.83</td>\n",
       "      <td>-1.17</td>\n",
       "      <td>-0.93</td>\n",
       "      <td>0.71</td>\n",
       "    </tr>\n",
       "    <tr>\n",
       "      <th>4</th>\n",
       "      <td>-0.71</td>\n",
       "      <td>-1.45</td>\n",
       "      <td>0.72</td>\n",
       "      <td>-0.92</td>\n",
       "      <td>0.12</td>\n",
       "      <td>-0.78</td>\n",
       "      <td>-1.34</td>\n",
       "      <td>1.11</td>\n",
       "      <td>1.55</td>\n",
       "      <td>0.23</td>\n",
       "    </tr>\n",
       "    <tr>\n",
       "      <th>5</th>\n",
       "      <td>0.89</td>\n",
       "      <td>0.50</td>\n",
       "      <td>-0.86</td>\n",
       "      <td>-0.10</td>\n",
       "      <td>-0.87</td>\n",
       "      <td>0.70</td>\n",
       "      <td>0.85</td>\n",
       "      <td>-0.71</td>\n",
       "      <td>-0.58</td>\n",
       "      <td>1.26</td>\n",
       "    </tr>\n",
       "    <tr>\n",
       "      <th>6</th>\n",
       "      <td>-0.26</td>\n",
       "      <td>0.58</td>\n",
       "      <td>-0.43</td>\n",
       "      <td>1.34</td>\n",
       "      <td>-0.95</td>\n",
       "      <td>-0.72</td>\n",
       "      <td>0.56</td>\n",
       "      <td>0.22</td>\n",
       "      <td>-0.46</td>\n",
       "      <td>-1.14</td>\n",
       "    </tr>\n",
       "    <tr>\n",
       "      <th>7</th>\n",
       "      <td>-1.14</td>\n",
       "      <td>-0.80</td>\n",
       "      <td>0.66</td>\n",
       "      <td>-1.18</td>\n",
       "      <td>-0.87</td>\n",
       "      <td>-0.47</td>\n",
       "      <td>0.89</td>\n",
       "      <td>1.21</td>\n",
       "      <td>1.19</td>\n",
       "      <td>-1.26</td>\n",
       "    </tr>\n",
       "  </tbody>\n",
       "</table>\n",
       "</div>"
      ],
      "text/plain": [
       "      0     1     2     3     4     5     6     7     8     9\n",
       "0  1.47 -1.13  1.31 -0.59  1.38 -1.00 -1.27  0.98 -0.46  0.59\n",
       "1 -0.23  1.07 -0.50  1.08  1.38 -0.47  1.03 -0.97  0.72 -1.08\n",
       "2 -1.05  1.12 -1.62 -0.65 -0.69  1.07  0.12 -0.67 -1.02  0.68\n",
       "3  1.02  0.12  0.72  1.02  0.50  1.67 -0.83 -1.17 -0.93  0.71\n",
       "4 -0.71 -1.45  0.72 -0.92  0.12 -0.78 -1.34  1.11  1.55  0.23\n",
       "5  0.89  0.50 -0.86 -0.10 -0.87  0.70  0.85 -0.71 -0.58  1.26\n",
       "6 -0.26  0.58 -0.43  1.34 -0.95 -0.72  0.56  0.22 -0.46 -1.14\n",
       "7 -1.14 -0.80  0.66 -1.18 -0.87 -0.47  0.89  1.21  1.19 -1.26"
      ]
     },
     "execution_count": 66,
     "metadata": {},
     "output_type": "execute_result"
    }
   ],
   "source": [
    "#Нормализуйте все столбцы датафрейма, вычитая среднее значение столбца и разделив на стандартное отклонение:\n",
    "df = pd.DataFrame(np.random.RandomState(20).randint(1,100, 80).reshape(8, -1))\n",
    "print(df.apply(lambda x: round((x - np.mean(x)) / x.std(),2), axis = 0))"
   ]
  },
  {
   "cell_type": "code",
   "execution_count": null,
   "id": "b8d8d435",
   "metadata": {},
   "outputs": [],
   "source": []
  }
 ],
 "metadata": {
  "kernelspec": {
   "display_name": "Python 3 (ipykernel)",
   "language": "python",
   "name": "python3"
  },
  "language_info": {
   "codemirror_mode": {
    "name": "ipython",
    "version": 3
   },
   "file_extension": ".py",
   "mimetype": "text/x-python",
   "name": "python",
   "nbconvert_exporter": "python",
   "pygments_lexer": "ipython3",
   "version": "3.10.8"
  }
 },
 "nbformat": 4,
 "nbformat_minor": 5
}
