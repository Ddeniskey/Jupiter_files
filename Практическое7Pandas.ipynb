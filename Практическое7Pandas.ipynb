{
 "cells": [
  {
   "cell_type": "code",
   "execution_count": 15,
   "id": "954e2e24",
   "metadata": {},
   "outputs": [],
   "source": [
    "import numpy as np\n",
    "import pandas as pd\n",
    "import math"
   ]
  },
  {
   "cell_type": "code",
   "execution_count": 53,
   "id": "0a451fe3",
   "metadata": {},
   "outputs": [
    {
     "name": "stdout",
     "output_type": "stream",
     "text": [
      "[[17. 17. 25. 25. 33. 26. 21. 45.]\n",
      " [29. 25. 41. 15. 42. 26. 25. 44.]\n",
      " [42. 30. 13. 35. 38. 37. 24. 17.]\n",
      " [37. 19. 13. 27. 19. 16. 20. 34.]\n",
      " [49. 10. 29. 32. 24. 41. 14. 23.]\n",
      " [40. 31. 21. 36. 19. 13.  8. 38.]\n",
      " [25. 28. 35. 25. 11.  9. 24.  9.]\n",
      " [31. 35. 32. 41. 19. 10. 24. 27.]]\n"
     ]
    }
   ],
   "source": [
    "#Превратите датафрейм в квадрат с максимально возможной длиной стороны n, убрав отрицательные значения. \n",
    "#При необходимости удалите наименьшие значения. Порядок положительных чисел в результате должен \n",
    "#оставаться таким же, как и в оригинале.\n",
    "#Подсказка:\n",
    "#Шаг 1: Удалите отрицательные значения\n",
    "#Шаг 2: Определите наибольший размер стороны квадрата n, который может получиться\n",
    "#Шаг 3: Постройте квадрат со стороной n из ТОП n^2 наибольших значений\n",
    "df = pd.DataFrame(np.random.RandomState(30).randint(-20, 50, 100).reshape(10,-1))\n",
    "pos_val = df.values[df.values > 0] # значения неотрицательные\n",
    "df.shape[0]\n",
    "def num_to_remove(len_of_pos_vals = pos_val.shape[0]):\n",
    "    size = np.sqrt(len_of_pos_vals)\n",
    "    return len_of_pos_vals - math.floor(size) ** 2\n",
    "num_to_remove()\n",
    "l = pos_val.tolist()\n",
    "for i in range(num_to_remove()): # удаление минимальных элементов до составления квадрата из оставшихся\n",
    "    l.pop(l.index(min(l)))\n",
    "    \n",
    "print(np.array(l, float).reshape(int(np.sqrt(len(l))),int(np.sqrt(len(l)))))"
   ]
  },
  {
   "cell_type": "code",
   "execution_count": 56,
   "id": "0cdd3371",
   "metadata": {},
   "outputs": [
    {
     "name": "stdout",
     "output_type": "stream",
     "text": [
      "    0   1   2   3   4\n",
      "0   0   1   2   3   4\n",
      "1  10  11  12  13  14\n",
      "2   5   6   7   8   9\n",
      "3  15  16  17  18  19\n",
      "4  20  21  22  23  24\n"
     ]
    }
   ],
   "source": [
    "#Поменяйте местами строки 1 и 2\n",
    "df = pd.DataFrame(np.arange(25).reshape(5, -1))\n",
    "print(df.rename(index = {1:2, 2:1}).sort_index())"
   ]
  },
  {
   "cell_type": "code",
   "execution_count": 71,
   "id": "eeb48168",
   "metadata": {},
   "outputs": [
    {
     "name": "stdout",
     "output_type": "stream",
     "text": [
      "    0   1   2   3   4\n",
      "4  20  21  22  23  24\n",
      "3  15  16  17  18  19\n",
      "2  10  11  12  13  14\n",
      "1   5   6   7   8   9\n",
      "0   0   1   2   3   4\n"
     ]
    }
   ],
   "source": [
    "#Измените порядок строк датафрейма таким образом, чтобы последние стали первыми, а первые последними (reverse).\n",
    "df = pd.DataFrame(np.arange(25).reshape(5, -1))\n",
    "new_df = df.rename(index = {i:len(df.index)-i - 1 for i in range(len(df.index))}).sort_index()\n",
    "print(new_df.rename(index = {i:len(df.index)-i - 1 for i in range(len(df.index))}))"
   ]
  },
  {
   "cell_type": "code",
   "execution_count": 81,
   "id": "fa84496b",
   "metadata": {},
   "outputs": [
    {
     "name": "stdout",
     "output_type": "stream",
     "text": [
      "   0  5  10  15  20   b   c   d   e\n",
      "0  1  0   0   0   0   1   2   3   4\n",
      "1  0  1   0   0   0   6   7   8   9\n",
      "2  0  0   1   0   0  11  12  13  14\n",
      "3  0  0   0   1   0  16  17  18  19\n",
      "4  0  0   0   0   1  21  22  23  24\n"
     ]
    }
   ],
   "source": [
    "#Выполните one-hot encoding для столбца А и добавьте результат к датафрейму\n",
    "df = pd.DataFrame(np.arange(25).reshape(5,-1), columns=list('abcde'))\n",
    "print(pd.get_dummies(df['a']).join(df.drop('a', axis = 1)))"
   ]
  },
  {
   "cell_type": "code",
   "execution_count": 136,
   "id": "d2ff5572",
   "metadata": {},
   "outputs": [
    {
     "name": "stdout",
     "output_type": "stream",
     "text": [
      "    0   1   2   3  max\n",
      "0  38  38  46  46   46\n",
      "1  13  24   3  54   54\n",
      "2  18  47   4  42   47\n",
      "3   8  66  50  46   66\n",
      "4  62  36  19  19   62\n",
      "5  77  17   7  63   77\n",
      "6  28  47  46  65   65\n",
      "7  63  12  16  24   63\n",
      "8  14  51  34  56   56\n",
      "9  29  59  92  79   92\n",
      "[3, 2, 2, 4]\n",
      "3\n"
     ]
    }
   ],
   "source": [
    "#Определите имя столбца с наибольшим количеством строковых максимумов. \n",
    "\n",
    "df = pd.DataFrame(np.random.RandomState(30).randint(1,100, 40).reshape(10, -1))\n",
    "df['max'] = df.max(axis=1)\n",
    "nummax= [sum(df[c] == df['max']) for c in df.columns[:4]]\n",
    "print(df)\n",
    "print(nummax)\n",
    "print(np.argmax(nummax))"
   ]
  },
  {
   "cell_type": "code",
   "execution_count": 137,
   "id": "312776ad",
   "metadata": {},
   "outputs": [
    {
     "data": {
      "text/html": [
       "<div>\n",
       "<style scoped>\n",
       "    .dataframe tbody tr th:only-of-type {\n",
       "        vertical-align: middle;\n",
       "    }\n",
       "\n",
       "    .dataframe tbody tr th {\n",
       "        vertical-align: top;\n",
       "    }\n",
       "\n",
       "    .dataframe thead th {\n",
       "        text-align: right;\n",
       "    }\n",
       "</style>\n",
       "<table border=\"1\" class=\"dataframe\">\n",
       "  <thead>\n",
       "    <tr style=\"text-align: right;\">\n",
       "      <th></th>\n",
       "      <th>0</th>\n",
       "      <th>1</th>\n",
       "      <th>2</th>\n",
       "      <th>3</th>\n",
       "    </tr>\n",
       "  </thead>\n",
       "  <tbody>\n",
       "    <tr>\n",
       "      <th>0</th>\n",
       "      <td>38</td>\n",
       "      <td>38</td>\n",
       "      <td>46</td>\n",
       "      <td>46</td>\n",
       "    </tr>\n",
       "    <tr>\n",
       "      <th>1</th>\n",
       "      <td>13</td>\n",
       "      <td>24</td>\n",
       "      <td>3</td>\n",
       "      <td>54</td>\n",
       "    </tr>\n",
       "    <tr>\n",
       "      <th>2</th>\n",
       "      <td>18</td>\n",
       "      <td>47</td>\n",
       "      <td>4</td>\n",
       "      <td>42</td>\n",
       "    </tr>\n",
       "    <tr>\n",
       "      <th>3</th>\n",
       "      <td>8</td>\n",
       "      <td>66</td>\n",
       "      <td>50</td>\n",
       "      <td>46</td>\n",
       "    </tr>\n",
       "    <tr>\n",
       "      <th>4</th>\n",
       "      <td>62</td>\n",
       "      <td>36</td>\n",
       "      <td>19</td>\n",
       "      <td>19</td>\n",
       "    </tr>\n",
       "    <tr>\n",
       "      <th>5</th>\n",
       "      <td>77</td>\n",
       "      <td>17</td>\n",
       "      <td>7</td>\n",
       "      <td>63</td>\n",
       "    </tr>\n",
       "    <tr>\n",
       "      <th>6</th>\n",
       "      <td>28</td>\n",
       "      <td>47</td>\n",
       "      <td>46</td>\n",
       "      <td>65</td>\n",
       "    </tr>\n",
       "    <tr>\n",
       "      <th>7</th>\n",
       "      <td>63</td>\n",
       "      <td>12</td>\n",
       "      <td>16</td>\n",
       "      <td>24</td>\n",
       "    </tr>\n",
       "    <tr>\n",
       "      <th>8</th>\n",
       "      <td>14</td>\n",
       "      <td>51</td>\n",
       "      <td>34</td>\n",
       "      <td>56</td>\n",
       "    </tr>\n",
       "    <tr>\n",
       "      <th>9</th>\n",
       "      <td>29</td>\n",
       "      <td>59</td>\n",
       "      <td>92</td>\n",
       "      <td>79</td>\n",
       "    </tr>\n",
       "  </tbody>\n",
       "</table>\n",
       "</div>"
      ],
      "text/plain": [
       "    0   1   2   3\n",
       "0  38  38  46  46\n",
       "1  13  24   3  54\n",
       "2  18  47   4  42\n",
       "3   8  66  50  46\n",
       "4  62  36  19  19\n",
       "5  77  17   7  63\n",
       "6  28  47  46  65\n",
       "7  63  12  16  24\n",
       "8  14  51  34  56\n",
       "9  29  59  92  79"
      ]
     },
     "execution_count": 137,
     "metadata": {},
     "output_type": "execute_result"
    }
   ],
   "source": [
    "#Создайте новый столбец таким образом, чтобы каждая строка содержала номер наиболее \n",
    "#удалённой строки-записи по евклидову расстоянию.\n",
    "df = pd.DataFrame(np.random.RandomState(30).randint(1,100, 40).reshape(10, -1))\n",
    "df"
   ]
  },
  {
   "cell_type": "code",
   "execution_count": null,
   "id": "1adbdf21",
   "metadata": {},
   "outputs": [],
   "source": []
  }
 ],
 "metadata": {
  "kernelspec": {
   "display_name": "Python 3 (ipykernel)",
   "language": "python",
   "name": "python3"
  },
  "language_info": {
   "codemirror_mode": {
    "name": "ipython",
    "version": 3
   },
   "file_extension": ".py",
   "mimetype": "text/x-python",
   "name": "python",
   "nbconvert_exporter": "python",
   "pygments_lexer": "ipython3",
   "version": "3.9.12"
  }
 },
 "nbformat": 4,
 "nbformat_minor": 5
}
