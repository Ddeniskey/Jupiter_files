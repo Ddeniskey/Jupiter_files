{
 "cells": [
  {
   "cell_type": "code",
   "execution_count": 2,
   "id": "7ba76a9a",
   "metadata": {},
   "outputs": [
    {
     "data": {
      "text/plain": [
       "0    z\n",
       "1    y\n",
       "2    x\n",
       "3    w\n",
       "4    v\n",
       "5    u\n",
       "6    t\n",
       "7    s\n",
       "8    r\n",
       "dtype: object"
      ]
     },
     "execution_count": 2,
     "metadata": {},
     "output_type": "execute_result"
    }
   ],
   "source": [
    "import pandas as pd\n",
    "import numpy as np\n",
    "def solution():\n",
    "    lst = list('zyxwvutsr')\n",
    "    result = pd.Series(lst)\n",
    "    return result\n",
    "solution()"
   ]
  },
  {
   "cell_type": "code",
   "execution_count": 3,
   "id": "19da4978",
   "metadata": {},
   "outputs": [
    {
     "data": {
      "text/plain": [
       "a    0\n",
       "b    1\n",
       "c    2\n",
       "e    3\n",
       "d    4\n",
       "dtype: int64"
      ]
     },
     "execution_count": 3,
     "metadata": {},
     "output_type": "execute_result"
    }
   ],
   "source": [
    "#На основе листа lst и массива arr сформируйте словарь и cоздайте pandas.Series из получившегося словаря.\n",
    "def solution():\n",
    "    lst = list('abced')\n",
    "    arr = np.arange(5)\n",
    "    result = pd.Series(arr, index=lst)\n",
    "    return result\n",
    "solution()"
   ]
  },
  {
   "cell_type": "code",
   "execution_count": 21,
   "id": "31f5d4d7",
   "metadata": {},
   "outputs": [
    {
     "data": {
      "text/html": [
       "<div>\n",
       "<style scoped>\n",
       "    .dataframe tbody tr th:only-of-type {\n",
       "        vertical-align: middle;\n",
       "    }\n",
       "\n",
       "    .dataframe tbody tr th {\n",
       "        vertical-align: top;\n",
       "    }\n",
       "\n",
       "    .dataframe thead th {\n",
       "        text-align: right;\n",
       "    }\n",
       "</style>\n",
       "<table border=\"1\" class=\"dataframe\">\n",
       "  <thead>\n",
       "    <tr style=\"text-align: right;\">\n",
       "      <th></th>\n",
       "      <th>index</th>\n",
       "      <th>0</th>\n",
       "    </tr>\n",
       "  </thead>\n",
       "  <tbody>\n",
       "    <tr>\n",
       "      <th>0</th>\n",
       "      <td>a</td>\n",
       "      <td>0</td>\n",
       "    </tr>\n",
       "    <tr>\n",
       "      <th>1</th>\n",
       "      <td>b</td>\n",
       "      <td>1</td>\n",
       "    </tr>\n",
       "    <tr>\n",
       "      <th>2</th>\n",
       "      <td>c</td>\n",
       "      <td>2</td>\n",
       "    </tr>\n",
       "    <tr>\n",
       "      <th>3</th>\n",
       "      <td>e</td>\n",
       "      <td>3</td>\n",
       "    </tr>\n",
       "    <tr>\n",
       "      <th>4</th>\n",
       "      <td>d</td>\n",
       "      <td>4</td>\n",
       "    </tr>\n",
       "  </tbody>\n",
       "</table>\n",
       "</div>"
      ],
      "text/plain": [
       "  index  0\n",
       "0     a  0\n",
       "1     b  1\n",
       "2     c  2\n",
       "3     e  3\n",
       "4     d  4"
      ]
     },
     "execution_count": 21,
     "metadata": {},
     "output_type": "execute_result"
    }
   ],
   "source": [
    "#На вход функции solution подается серия ser. Преобразуйте ее в pandas.DataFrame таким образом, чтобы индекс стал \n",
    "#отдельной колонкой датафрейма:\n",
    "def solution(ser):\n",
    "    result = pd.Series.to_frame(ser)\n",
    "    return result.reset_index()\n",
    "solution(pd.Series(np.arange(5), index = list('abced')))"
   ]
  },
  {
   "cell_type": "code",
   "execution_count": 31,
   "id": "90a03a7f",
   "metadata": {},
   "outputs": [
    {
     "data": {
      "text/html": [
       "<div>\n",
       "<style scoped>\n",
       "    .dataframe tbody tr th:only-of-type {\n",
       "        vertical-align: middle;\n",
       "    }\n",
       "\n",
       "    .dataframe tbody tr th {\n",
       "        vertical-align: top;\n",
       "    }\n",
       "\n",
       "    .dataframe thead th {\n",
       "        text-align: right;\n",
       "    }\n",
       "</style>\n",
       "<table border=\"1\" class=\"dataframe\">\n",
       "  <thead>\n",
       "    <tr style=\"text-align: right;\">\n",
       "      <th></th>\n",
       "      <th>0</th>\n",
       "      <th>1</th>\n",
       "    </tr>\n",
       "  </thead>\n",
       "  <tbody>\n",
       "    <tr>\n",
       "      <th>0</th>\n",
       "      <td>a</td>\n",
       "      <td>0</td>\n",
       "    </tr>\n",
       "    <tr>\n",
       "      <th>1</th>\n",
       "      <td>b</td>\n",
       "      <td>1</td>\n",
       "    </tr>\n",
       "    <tr>\n",
       "      <th>2</th>\n",
       "      <td>c</td>\n",
       "      <td>2</td>\n",
       "    </tr>\n",
       "    <tr>\n",
       "      <th>3</th>\n",
       "      <td>e</td>\n",
       "      <td>3</td>\n",
       "    </tr>\n",
       "    <tr>\n",
       "      <th>4</th>\n",
       "      <td>d</td>\n",
       "      <td>4</td>\n",
       "    </tr>\n",
       "  </tbody>\n",
       "</table>\n",
       "</div>"
      ],
      "text/plain": [
       "   0  1\n",
       "0  a  0\n",
       "1  b  1\n",
       "2  c  2\n",
       "3  e  3\n",
       "4  d  4"
      ]
     },
     "execution_count": 31,
     "metadata": {},
     "output_type": "execute_result"
    }
   ],
   "source": [
    "#Объедините два pandas.Series (s1, s2) таким образом чтобы получился pandas.DataFrame не используя конструктор!\n",
    "def solution():\n",
    "    s1 = pd.Series(list('abced'))\n",
    "    s2 = pd.Series(np.arange(5))\n",
    "    return(pd.concat([s1, s2], axis = 1))\n",
    "solution()"
   ]
  },
  {
   "cell_type": "code",
   "execution_count": 47,
   "id": "68018596",
   "metadata": {},
   "outputs": [
    {
     "data": {
      "text/html": [
       "<div>\n",
       "<style scoped>\n",
       "    .dataframe tbody tr th:only-of-type {\n",
       "        vertical-align: middle;\n",
       "    }\n",
       "\n",
       "    .dataframe tbody tr th {\n",
       "        vertical-align: top;\n",
       "    }\n",
       "\n",
       "    .dataframe thead th {\n",
       "        text-align: right;\n",
       "    }\n",
       "</style>\n",
       "<table border=\"1\" class=\"dataframe\">\n",
       "  <thead>\n",
       "    <tr style=\"text-align: right;\">\n",
       "      <th></th>\n",
       "      <th>col1</th>\n",
       "      <th>col2</th>\n",
       "    </tr>\n",
       "  </thead>\n",
       "  <tbody>\n",
       "    <tr>\n",
       "      <th>0</th>\n",
       "      <td>a</td>\n",
       "      <td>0</td>\n",
       "    </tr>\n",
       "    <tr>\n",
       "      <th>1</th>\n",
       "      <td>b</td>\n",
       "      <td>1</td>\n",
       "    </tr>\n",
       "    <tr>\n",
       "      <th>2</th>\n",
       "      <td>c</td>\n",
       "      <td>2</td>\n",
       "    </tr>\n",
       "    <tr>\n",
       "      <th>3</th>\n",
       "      <td>e</td>\n",
       "      <td>3</td>\n",
       "    </tr>\n",
       "    <tr>\n",
       "      <th>4</th>\n",
       "      <td>d</td>\n",
       "      <td>4</td>\n",
       "    </tr>\n",
       "  </tbody>\n",
       "</table>\n",
       "</div>"
      ],
      "text/plain": [
       "  col1  col2\n",
       "0    a     0\n",
       "1    b     1\n",
       "2    c     2\n",
       "3    e     3\n",
       "4    d     4"
      ]
     },
     "execution_count": 47,
     "metadata": {},
     "output_type": "execute_result"
    }
   ],
   "source": [
    "#Объедините два pandas.Series (переменные s1, s2) таким образом чтобы получился pandas.DataFrame:\n",
    "def solution():\n",
    "    s1 = pd.Series(list('abced'))\n",
    "    s2 = pd.Series(np.arange(5))\n",
    "    result = pd.concat([s1, s2], axis = 1)\n",
    "    ans = pd.DataFrame(result)\n",
    "    ans.columns = ['col1', 'col2']\n",
    "    return(ans)\n",
    "solution()\n",
    "#также можно использовать rename(columns = {0:'col1', 1:'col2'})"
   ]
  },
  {
   "cell_type": "code",
   "execution_count": 59,
   "id": "73d26216",
   "metadata": {},
   "outputs": [
    {
     "data": {
      "text/plain": [
       "0    a\n",
       "1    b\n",
       "2    c\n",
       "3    e\n",
       "4    d\n",
       "Name: characters, dtype: object"
      ]
     },
     "execution_count": 59,
     "metadata": {},
     "output_type": "execute_result"
    }
   ],
   "source": [
    "#Присвойте индексу pandas.Series имя 'characters':\n",
    "def solution():\n",
    "    s = pd.Series(list('abced'))\n",
    "    s.name = \"characters\"\n",
    "    return s\n",
    "solution()"
   ]
  },
  {
   "cell_type": "code",
   "execution_count": 86,
   "id": "83e1822b",
   "metadata": {},
   "outputs": [
    {
     "data": {
      "text/plain": [
       "0    1\n",
       "1    2\n",
       "2    3\n",
       "dtype: int64"
      ]
     },
     "execution_count": 86,
     "metadata": {},
     "output_type": "execute_result"
    }
   ],
   "source": [
    "#Получите элементы s1, которые не присутствуют в s2.\n",
    "def solution():\n",
    "    s1 = pd.Series([1, 2, 3, 4, 5])\n",
    "    s2 = pd.Series([4, 5, 6, 7, 8])\n",
    "    result = s1[~s1.isin(s2)]\n",
    "    return result\n",
    "solution()"
   ]
  },
  {
   "cell_type": "code",
   "execution_count": 87,
   "id": "7f628482",
   "metadata": {},
   "outputs": [
    {
     "name": "stdout",
     "output_type": "stream",
     "text": [
      "0    1\n",
      "1    2\n",
      "2    3\n",
      "5    6\n",
      "6    7\n",
      "7    8\n",
      "dtype: int64\n"
     ]
    }
   ],
   "source": [
    "#Создайте новый pandas.Series из элементов, которые присутствуют только в одном из двух pandas.Series\n",
    "#(переменные s1, s2). Если элемент присутствует в двух Series, то включать его не надо.Исходные индексы надо сохра\n",
    "#нить\n",
    "#def solution():\n",
    "    #s1 = pd.Series([1, 2, 3, 4, 5])\n",
    "    #s2 = pd.Series([4, 5, 6, 7, 8])\n",
    "    #only_in_s1 = s1[~s1.isin(s2)]\n",
    "    #only_in_s2 = s2[~s2.isin(s1)]\n",
    "    #both = np.union1d(np.array(only_in_s1.values), np.array(only_in_s2.values))\n",
    "    #result = pd.Series(both)\n",
    "    #return result\n",
    "#solution()\n",
    "def solution():\n",
    "    s1 = pd.Series([1, 2, 3, 4, 5])\n",
    "    s2 = pd.Series([4, 5, 6, 7, 8])\n",
    "    all = pd.Series(np.union1d(s1, s2))\n",
    "    intersect = pd.Series(np.intersect1d(s1, s2))\n",
    "    result = all[~all.isin(intersect)]\n",
    "    return result\n",
    "solution()\n"
   ]
  },
  {
   "cell_type": "code",
   "execution_count": 89,
   "id": "d82bb84e",
   "metadata": {},
   "outputs": [
    {
     "data": {
      "text/plain": [
       "0     1.0\n",
       "1     2.0\n",
       "2     3.0\n",
       "3     6.5\n",
       "4    12.0\n",
       "dtype: float64"
      ]
     },
     "execution_count": 89,
     "metadata": {},
     "output_type": "execute_result"
    }
   ],
   "source": [
    "#На вход функции solution подаются данные в pandas.Series (переменная ser) рассчитайте:\n",
    "#наименьшее значение\n",
    "#25 перцентиль\n",
    "#медиану\n",
    "#75 перцентиль\n",
    "#наибольшее значение\n",
    "def solution(ser):\n",
    "    result = np.percentile(ser, [0, 25, 50, 75, 100])\n",
    "    return pd.Series(result)\n",
    "solution(pd.Series([1, 2, 3, 3, 4, 3, 2, 1, 2, 5, 6, 7, 8 ,9, 12]))\n",
    "\n",
    "\n",
    "\n"
   ]
  },
  {
   "cell_type": "code",
   "execution_count": 90,
   "id": "bc5dea1a",
   "metadata": {},
   "outputs": [
    {
     "data": {
      "text/plain": [
       "a    8\n",
       "b    7\n",
       "c    6\n",
       "e    5\n",
       "d    4\n",
       "h    3\n",
       "f    2\n",
       "g    1\n",
       "dtype: int64"
      ]
     },
     "execution_count": 90,
     "metadata": {},
     "output_type": "execute_result"
    }
   ],
   "source": [
    "#Определите сколько раз встречается каждое значение в исходном pandas.Series (переменная s). Функция должна \n",
    "#вернуть серию с подсчитанным количеством каждого символа.\n",
    "def solution():\n",
    "    s = pd.Series(list('abdcbdhafceeabcahbcaedadaecbbbecafgh'))\n",
    "    result = s.value_counts()\n",
    "    return result\n",
    "solution()"
   ]
  },
  {
   "cell_type": "code",
   "execution_count": null,
   "id": "b48bbc82",
   "metadata": {},
   "outputs": [],
   "source": []
  }
 ],
 "metadata": {
  "kernelspec": {
   "display_name": "Python 3 (ipykernel)",
   "language": "python",
   "name": "python3"
  },
  "language_info": {
   "codemirror_mode": {
    "name": "ipython",
    "version": 3
   },
   "file_extension": ".py",
   "mimetype": "text/x-python",
   "name": "python",
   "nbconvert_exporter": "python",
   "pygments_lexer": "ipython3",
   "version": "3.10.6"
  }
 },
 "nbformat": 4,
 "nbformat_minor": 5
}
