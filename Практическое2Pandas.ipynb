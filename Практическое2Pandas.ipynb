{
 "cells": [
  {
   "cell_type": "code",
   "execution_count": 1,
   "id": "4531d270",
   "metadata": {},
   "outputs": [],
   "source": [
    "import pandas as pd\n",
    "import numpy as np"
   ]
  },
  {
   "cell_type": "code",
   "execution_count": 50,
   "id": "4635b30c",
   "metadata": {},
   "outputs": [
    {
     "data": {
      "text/plain": [
       "0                     a\n",
       "1                     b\n",
       "2     Yet another value\n",
       "3     Yet another value\n",
       "4                     b\n",
       "5     Yet another value\n",
       "6     Yet another value\n",
       "7                     a\n",
       "8     Yet another value\n",
       "9     Yet another value\n",
       "10    Yet another value\n",
       "11    Yet another value\n",
       "12                    a\n",
       "13                    b\n",
       "14    Yet another value\n",
       "15                    a\n",
       "16    Yet another value\n",
       "17                    b\n",
       "18    Yet another value\n",
       "19                    a\n",
       "20    Yet another value\n",
       "21    Yet another value\n",
       "22                    a\n",
       "23    Yet another value\n",
       "24                    a\n",
       "25    Yet another value\n",
       "26    Yet another value\n",
       "27                    b\n",
       "28                    b\n",
       "29                    b\n",
       "30    Yet another value\n",
       "31    Yet another value\n",
       "32                    a\n",
       "33    Yet another value\n",
       "34    Yet another value\n",
       "35    Yet another value\n",
       "dtype: object"
      ]
     },
     "execution_count": 50,
     "metadata": {},
     "output_type": "execute_result"
    }
   ],
   "source": [
    "#Доработайте код таким образом, чтобы оставить только 2 наиболее встречающихся значения, а для остальных \n",
    "#установите значение 'Yet another value'.\n",
    "def solution():\n",
    "    s = pd.Series(list('abdcbdhafceeabcahbcaedadaecbbbecafgh'))\n",
    "    top = s.value_counts().index\n",
    "    under = top[2:]\n",
    "    s = s.rename(lambda x: -1 if s[x] in under else x)\n",
    "    s[-1] = \"Yet another value\"\n",
    "    s.index = [i for i in range(len(s))]\n",
    "    return s\n",
    "solution()\n",
    "#2ой варик\n",
    "def solution():\n",
    "    s = pd.Series(list('abdcbdhafceeabcahbcaedadaecbbbecafgh'))\n",
    "    a = s.value_counts().iloc[:2]\n",
    "    b = a.index.to_series()\n",
    "    to_change = s.isin(b)\n",
    "    s.where(to_change, other = \"Yet another value\", inplace = True)\n",
    "    return s\n",
    "solution()"
   ]
  },
  {
   "cell_type": "code",
   "execution_count": 57,
   "id": "1751d597",
   "metadata": {},
   "outputs": [
    {
     "data": {
      "text/plain": [
       "0    (-0.001, 3.0]\n",
       "1    (-0.001, 3.0]\n",
       "2    (-0.001, 3.0]\n",
       "3    (-0.001, 3.0]\n",
       "4       (3.0, 6.0]\n",
       "5       (3.0, 6.0]\n",
       "6       (3.0, 6.0]\n",
       "7       (6.0, 9.0]\n",
       "8       (6.0, 9.0]\n",
       "9       (6.0, 9.0]\n",
       "dtype: category\n",
       "Categories (3, interval[float64, right]): [(-0.001, 3.0] < (3.0, 6.0] < (6.0, 9.0]]"
      ]
     },
     "execution_count": 57,
     "metadata": {},
     "output_type": "execute_result"
    }
   ],
   "source": [
    "#Разбейте все значения из pandas.Series (переменная s1) на 3 интервала равного размера. Функция должна вернуть\n",
    "#серию:\n",
    "def solution():\n",
    "    s1 = pd.Series(reversed(range(0, 10)))\n",
    "    result = pd.qcut(s1, [0., 1 /  3, 2/3, 1.0])\n",
    "    return result\n",
    "solution()\n",
    "\n"
   ]
  },
  {
   "cell_type": "code",
   "execution_count": 93,
   "id": "4011fef2",
   "metadata": {},
   "outputs": [
    {
     "data": {
      "text/html": [
       "<div>\n",
       "<style scoped>\n",
       "    .dataframe tbody tr th:only-of-type {\n",
       "        vertical-align: middle;\n",
       "    }\n",
       "\n",
       "    .dataframe tbody tr th {\n",
       "        vertical-align: top;\n",
       "    }\n",
       "\n",
       "    .dataframe thead th {\n",
       "        text-align: right;\n",
       "    }\n",
       "</style>\n",
       "<table border=\"1\" class=\"dataframe\">\n",
       "  <thead>\n",
       "    <tr style=\"text-align: right;\">\n",
       "      <th></th>\n",
       "      <th>0</th>\n",
       "      <th>1</th>\n",
       "      <th>2</th>\n",
       "      <th>3</th>\n",
       "      <th>4</th>\n",
       "    </tr>\n",
       "  </thead>\n",
       "  <tbody>\n",
       "    <tr>\n",
       "      <th>0</th>\n",
       "      <td>0</td>\n",
       "      <td>1</td>\n",
       "      <td>2</td>\n",
       "      <td>3</td>\n",
       "      <td>4</td>\n",
       "    </tr>\n",
       "    <tr>\n",
       "      <th>1</th>\n",
       "      <td>5</td>\n",
       "      <td>6</td>\n",
       "      <td>7</td>\n",
       "      <td>8</td>\n",
       "      <td>9</td>\n",
       "    </tr>\n",
       "  </tbody>\n",
       "</table>\n",
       "</div>"
      ],
      "text/plain": [
       "   0  1  2  3  4\n",
       "0  0  1  2  3  4\n",
       "1  5  6  7  8  9"
      ]
     },
     "execution_count": 93,
     "metadata": {},
     "output_type": "execute_result"
    }
   ],
   "source": [
    "#Преобразуйте pandas.Series (переменная s1) в pandas.DataFrame размером 2 х 5:\n",
    "#def solution():\n",
    "    #s1 = pd.Series(range(0,10))\n",
    "    #s1_0 = s1[range(0, len(s1), 5)].values\n",
    "    #s1_1 = s1[range(1, len(s1), 5)].values\n",
    "    #s1_2 = s1[range(2, len(s1), 5)].values\n",
    "    #s1_3 = s1[range(3, len(s1), 5)].values\n",
    "    #s1_4 = s1[range(4, len(s1), 5)].values\n",
    "    #result = pd.DataFrame({'0':s1_0, '1':s1_1, '2':s1_2, '3':s1_3, '4':s1_4})\n",
    "    #return result\n",
    "#solution()\n",
    "#2 ой вариант\n",
    "def solution():\n",
    "    s1 = pd.Series(range(0,10))\n",
    "    s2 = np.reshape(s1.values, (2, 5))\n",
    "    return pd.DataFrame(s2)\n",
    "solution()"
   ]
  },
  {
   "cell_type": "code",
   "execution_count": 99,
   "id": "3e6a1199",
   "metadata": {},
   "outputs": [
    {
     "data": {
      "text/plain": [
       "array([[1],\n",
       "       [2],\n",
       "       [5]])"
      ]
     },
     "execution_count": 99,
     "metadata": {},
     "output_type": "execute_result"
    }
   ],
   "source": [
    "#Найдите индексы значений, которые кратны 2. Функция solution должна вернуть numpy массив\n",
    "def solution():\n",
    "    s1 = pd.Series([5, 10, 2, 3, 9, 12, 1])\n",
    "    result = np.argwhere(s1.values % 2 == 0)\n",
    "    return result\n",
    "solution()\n"
   ]
  },
  {
   "cell_type": "code",
   "execution_count": 100,
   "id": "99500559",
   "metadata": {},
   "outputs": [
    {
     "data": {
      "text/plain": [
       "0     a\n",
       "7     h\n",
       "12    m\n",
       "15    p\n",
       "19    t\n",
       "dtype: object"
      ]
     },
     "execution_count": 100,
     "metadata": {},
     "output_type": "execute_result"
    }
   ],
   "source": [
    "#Создайте новый pandas.Series из элементов, которые находятся по индексам: 0, 7, 12, 15, 19. Функция solution \n",
    "#должна вернуть серию:\n",
    "def solution():\n",
    "    s1 = pd.Series(list('abcdefghijklmnopqrstuvwxyz'))\n",
    "    indexes = [0, 7, 12, 15, 19]\n",
    "    result = s1[indexes]\n",
    "    return result\n",
    "solution()"
   ]
  },
  {
   "cell_type": "code",
   "execution_count": 101,
   "id": "b0a465d8",
   "metadata": {},
   "outputs": [
    {
     "data": {
      "text/plain": [
       "0   2022-01-01 00:00:00\n",
       "1   2022-02-02 00:00:00\n",
       "2   2022-03-03 00:00:00\n",
       "3   2022-04-04 00:00:00\n",
       "4   2022-05-05 00:00:00\n",
       "5   2022-06-06 12:20:00\n",
       "dtype: datetime64[ns]"
      ]
     },
     "execution_count": 101,
     "metadata": {},
     "output_type": "execute_result"
    }
   ],
   "source": [
    "#Преобразуйте элементы pandas.Series (переменная s1) из строк в даты. Функция solutionдолжна вернуть серию:\n",
    "def solution():\n",
    "    s1 = pd.Series(['01 Jan 2022', '02-02-2022', '20220303', '2022/04/04', '2022-05-05', '2022-06-06T12:20'])\n",
    "    result = pd.to_datetime(s1)\n",
    "    return result\n",
    "solution()"
   ]
  },
  {
   "cell_type": "code",
   "execution_count": 140,
   "id": "74dc4240",
   "metadata": {},
   "outputs": [
    {
     "data": {
      "text/plain": [
       "[4, 5, 0, 8]"
      ]
     },
     "execution_count": 140,
     "metadata": {},
     "output_type": "execute_result"
    }
   ],
   "source": [
    "#Объект pandas.Series (переменная s1) содержит некоторые числовые значения. Для значений хранящихся в s2 \n",
    "#определите индексы под которыми они хранятся  в s1. Функция должна вернуть список (python list):\n",
    "def solution():\n",
    "    s1 = pd.Series([10, 9, 6, 5, 3, 1, 12, 8, 13])\n",
    "    s2 = pd.Series([1, 3, 10, 13])\n",
    "    s3 = list(s2[s2.isin(s1)])\n",
    "    s1, s2 = list(s1), list(s2)\n",
    "    result = [s1.index(i) for i in s3]\n",
    "    return result\n",
    "solution()\n"
   ]
  },
  {
   "cell_type": "code",
   "execution_count": 151,
   "id": "828f4f2b",
   "metadata": {},
   "outputs": [
    {
     "data": {
      "text/plain": [
       "33.0"
      ]
     },
     "execution_count": 151,
     "metadata": {},
     "output_type": "execute_result"
    }
   ],
   "source": [
    "#Вычислите среднеквадратичную ошибку.\n",
    "def solution():\n",
    "    s_forecast = pd.Series(range(10))\n",
    "    s_real  = pd.Series(reversed(range(10)))\n",
    "    diff = (s_forecast.values  - s_real.values) ** 2 \n",
    "    return np.mean(diff)\n",
    "solution()\n",
    "\n"
   ]
  },
  {
   "cell_type": "code",
   "execution_count": 152,
   "id": "ae8c2a78",
   "metadata": {},
   "outputs": [
    {
     "data": {
      "text/plain": [
       "0        The\n",
       "1    Weather\n",
       "2         Is\n",
       "3       Fine\n",
       "dtype: object"
      ]
     },
     "execution_count": 152,
     "metadata": {},
     "output_type": "execute_result"
    }
   ],
   "source": [
    "#Измените первый символ каждого слова на верхний регистр.\n",
    "def solution():\n",
    "    s1 = pd.Series(['the', 'weather', 'is', 'fine']) \n",
    "    result = s1.str.capitalize()\n",
    "    return result\n",
    "solution()"
   ]
  },
  {
   "cell_type": "code",
   "execution_count": 154,
   "id": "58e08dea",
   "metadata": {},
   "outputs": [
    {
     "data": {
      "text/plain": [
       "0    3\n",
       "1    7\n",
       "2    2\n",
       "3    4\n",
       "dtype: int64"
      ]
     },
     "execution_count": 154,
     "metadata": {},
     "output_type": "execute_result"
    }
   ],
   "source": [
    "#Подсчитайте количество символов в каждом слове. Функция solution должна вернуть серию:\n",
    "def solution():\n",
    "    s1 = pd.Series(['the', 'weather', 'is', 'fine']) \n",
    "    result = s1.str.len()\n",
    "    return result\n",
    "solution()"
   ]
  },
  {
   "cell_type": "code",
   "execution_count": null,
   "id": "0a638181",
   "metadata": {},
   "outputs": [],
   "source": []
  }
 ],
 "metadata": {
  "kernelspec": {
   "display_name": "Python 3 (ipykernel)",
   "language": "python",
   "name": "python3"
  },
  "language_info": {
   "codemirror_mode": {
    "name": "ipython",
    "version": 3
   },
   "file_extension": ".py",
   "mimetype": "text/x-python",
   "name": "python",
   "nbconvert_exporter": "python",
   "pygments_lexer": "ipython3",
   "version": "3.10.6"
  }
 },
 "nbformat": 4,
 "nbformat_minor": 5
}
